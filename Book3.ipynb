{
 "cells": [
  {
   "cell_type": "markdown",
   "id": "a0135b03",
   "metadata": {},
   "source": [
    "#### Working with Dates and Time Series Data"
   ]
  },
  {
   "cell_type": "code",
   "execution_count": 265,
   "id": "5d3b9f67",
   "metadata": {},
   "outputs": [],
   "source": [
    "import pandas as pd\n",
    "df = pd.read_csv('assets/data/ETH_1h.csv')"
   ]
  },
  {
   "cell_type": "code",
   "execution_count": 266,
   "id": "9c4f9674",
   "metadata": {},
   "outputs": [
    {
     "data": {
      "text/html": [
       "<div>\n",
       "<style scoped>\n",
       "    .dataframe tbody tr th:only-of-type {\n",
       "        vertical-align: middle;\n",
       "    }\n",
       "\n",
       "    .dataframe tbody tr th {\n",
       "        vertical-align: top;\n",
       "    }\n",
       "\n",
       "    .dataframe thead th {\n",
       "        text-align: right;\n",
       "    }\n",
       "</style>\n",
       "<table border=\"1\" class=\"dataframe\">\n",
       "  <thead>\n",
       "    <tr style=\"text-align: right;\">\n",
       "      <th></th>\n",
       "      <th>Date</th>\n",
       "      <th>Symbol</th>\n",
       "      <th>Open</th>\n",
       "      <th>High</th>\n",
       "      <th>Low</th>\n",
       "      <th>Close</th>\n",
       "      <th>Volume</th>\n",
       "    </tr>\n",
       "  </thead>\n",
       "  <tbody>\n",
       "    <tr>\n",
       "      <th>0</th>\n",
       "      <td>2020-03-13 08-PM</td>\n",
       "      <td>ETHUSD</td>\n",
       "      <td>129.94</td>\n",
       "      <td>131.82</td>\n",
       "      <td>126.87</td>\n",
       "      <td>128.71</td>\n",
       "      <td>1940673.93</td>\n",
       "    </tr>\n",
       "    <tr>\n",
       "      <th>1</th>\n",
       "      <td>2020-03-13 07-PM</td>\n",
       "      <td>ETHUSD</td>\n",
       "      <td>119.51</td>\n",
       "      <td>132.02</td>\n",
       "      <td>117.10</td>\n",
       "      <td>129.94</td>\n",
       "      <td>7579741.09</td>\n",
       "    </tr>\n",
       "    <tr>\n",
       "      <th>2</th>\n",
       "      <td>2020-03-13 06-PM</td>\n",
       "      <td>ETHUSD</td>\n",
       "      <td>124.47</td>\n",
       "      <td>124.85</td>\n",
       "      <td>115.50</td>\n",
       "      <td>119.51</td>\n",
       "      <td>4898735.81</td>\n",
       "    </tr>\n",
       "    <tr>\n",
       "      <th>3</th>\n",
       "      <td>2020-03-13 05-PM</td>\n",
       "      <td>ETHUSD</td>\n",
       "      <td>124.08</td>\n",
       "      <td>127.42</td>\n",
       "      <td>121.63</td>\n",
       "      <td>124.47</td>\n",
       "      <td>2753450.92</td>\n",
       "    </tr>\n",
       "    <tr>\n",
       "      <th>4</th>\n",
       "      <td>2020-03-13 04-PM</td>\n",
       "      <td>ETHUSD</td>\n",
       "      <td>124.85</td>\n",
       "      <td>129.51</td>\n",
       "      <td>120.17</td>\n",
       "      <td>124.08</td>\n",
       "      <td>4461424.71</td>\n",
       "    </tr>\n",
       "    <tr>\n",
       "      <th>5</th>\n",
       "      <td>2020-03-13 03-PM</td>\n",
       "      <td>ETHUSD</td>\n",
       "      <td>128.39</td>\n",
       "      <td>128.90</td>\n",
       "      <td>116.06</td>\n",
       "      <td>124.85</td>\n",
       "      <td>7378976.00</td>\n",
       "    </tr>\n",
       "    <tr>\n",
       "      <th>6</th>\n",
       "      <td>2020-03-13 02-PM</td>\n",
       "      <td>ETHUSD</td>\n",
       "      <td>134.03</td>\n",
       "      <td>137.90</td>\n",
       "      <td>125.50</td>\n",
       "      <td>128.39</td>\n",
       "      <td>3733916.89</td>\n",
       "    </tr>\n",
       "    <tr>\n",
       "      <th>7</th>\n",
       "      <td>2020-03-13 01-PM</td>\n",
       "      <td>ETHUSD</td>\n",
       "      <td>131.35</td>\n",
       "      <td>140.95</td>\n",
       "      <td>128.99</td>\n",
       "      <td>134.03</td>\n",
       "      <td>9582732.93</td>\n",
       "    </tr>\n",
       "    <tr>\n",
       "      <th>8</th>\n",
       "      <td>2020-03-13 12-PM</td>\n",
       "      <td>ETHUSD</td>\n",
       "      <td>128.93</td>\n",
       "      <td>134.60</td>\n",
       "      <td>126.95</td>\n",
       "      <td>131.35</td>\n",
       "      <td>3906590.52</td>\n",
       "    </tr>\n",
       "    <tr>\n",
       "      <th>9</th>\n",
       "      <td>2020-03-13 11-AM</td>\n",
       "      <td>ETHUSD</td>\n",
       "      <td>132.60</td>\n",
       "      <td>133.17</td>\n",
       "      <td>126.01</td>\n",
       "      <td>128.93</td>\n",
       "      <td>3311080.29</td>\n",
       "    </tr>\n",
       "  </tbody>\n",
       "</table>\n",
       "</div>"
      ],
      "text/plain": [
       "               Date  Symbol    Open    High     Low   Close      Volume\n",
       "0  2020-03-13 08-PM  ETHUSD  129.94  131.82  126.87  128.71  1940673.93\n",
       "1  2020-03-13 07-PM  ETHUSD  119.51  132.02  117.10  129.94  7579741.09\n",
       "2  2020-03-13 06-PM  ETHUSD  124.47  124.85  115.50  119.51  4898735.81\n",
       "3  2020-03-13 05-PM  ETHUSD  124.08  127.42  121.63  124.47  2753450.92\n",
       "4  2020-03-13 04-PM  ETHUSD  124.85  129.51  120.17  124.08  4461424.71\n",
       "5  2020-03-13 03-PM  ETHUSD  128.39  128.90  116.06  124.85  7378976.00\n",
       "6  2020-03-13 02-PM  ETHUSD  134.03  137.90  125.50  128.39  3733916.89\n",
       "7  2020-03-13 01-PM  ETHUSD  131.35  140.95  128.99  134.03  9582732.93\n",
       "8  2020-03-13 12-PM  ETHUSD  128.93  134.60  126.95  131.35  3906590.52\n",
       "9  2020-03-13 11-AM  ETHUSD  132.60  133.17  126.01  128.93  3311080.29"
      ]
     },
     "execution_count": 266,
     "metadata": {},
     "output_type": "execute_result"
    }
   ],
   "source": [
    "df.head(10)"
   ]
  },
  {
   "cell_type": "markdown",
   "id": "2c36512e",
   "metadata": {},
   "source": [
    "Date Formate, \n",
    "Using `pd.to_datetime` to convert it into date series\n",
    "| Format | Meaning                              | Example                               |\n",
    "| ------ | ------------------------------------ | ------------------------------------- |\n",
    "| `%y`   | Year (two digits, 00–99)             | `25` → means year **2025**            |\n",
    "| `%Y`   | Year (four digits)                   | `2025`                                |\n",
    "| `%m`   | Month (two digits, 01–12)            | `11` → November                       |\n",
    "| `%d`   | Day of the month (two digits, 01–31) | `01` → the 1st                        |\n",
    "| `%I`   | Hour in **12-hour format** (01–12)   | `07` → 7 AM or 7 PM (depends on `%p`) |\n",
    "| `%H`   | Hour in **24-hour format** (00–23)   | `19` → 7 PM                           |\n",
    "| `%M`   | Minute (00–59)                       | `05` → 5 minutes                      |\n",
    "| `%S`   | Second (00–59)                       | `42` → 42 seconds                     |\n",
    "| `%p`   | AM / PM indicator                    | `AM` or `PM`                          |\n"
   ]
  },
  {
   "cell_type": "code",
   "execution_count": 267,
   "id": "41b1efa6",
   "metadata": {},
   "outputs": [
    {
     "data": {
      "text/plain": [
       "'2020-03-13 08-PM'"
      ]
     },
     "execution_count": 267,
     "metadata": {},
     "output_type": "execute_result"
    }
   ],
   "source": [
    "df.loc[0, 'Date']"
   ]
  },
  {
   "cell_type": "code",
   "execution_count": 268,
   "id": "4dc1dc3b",
   "metadata": {},
   "outputs": [
    {
     "data": {
      "text/plain": [
       "0   2020-03-13 20:00:00\n",
       "1   2020-03-13 19:00:00\n",
       "2   2020-03-13 18:00:00\n",
       "3   2020-03-13 17:00:00\n",
       "4   2020-03-13 16:00:00\n",
       "Name: Date, dtype: datetime64[ns]"
      ]
     },
     "execution_count": 268,
     "metadata": {},
     "output_type": "execute_result"
    }
   ],
   "source": [
    "df['Date'] = pd.to_datetime(df['Date'], format = '%Y-%m-%d %I-%p')\n",
    "df['Date'].head(5)"
   ]
  },
  {
   "cell_type": "markdown",
   "id": "4c65ea05",
   "metadata": {},
   "source": [
    "| Property          | Example      | Meaning                       |\n",
    "| ----------------- | ------------ | ----------------------------- |\n",
    "| `dt.year`         | `2025`       | year                          |\n",
    "| `dt.month`        | `11`         | month number                  |\n",
    "| `dt.day`          | `1`          | day of month                  |\n",
    "| `dt.day_name()`   | `'Saturday'` | weekday name                  |\n",
    "| `dt.weekday`      | `5`          | weekday number (Mon=0, Sun=6) |\n",
    "| `dt.is_leap_year` | `True/False` | check leap year               |\n",
    "\n",
    "##### Notice the difference between a function and a property"
   ]
  },
  {
   "cell_type": "code",
   "execution_count": 269,
   "id": "c1d2be4b",
   "metadata": {},
   "outputs": [
    {
     "data": {
      "text/plain": [
       "'Friday'"
      ]
     },
     "execution_count": 269,
     "metadata": {},
     "output_type": "execute_result"
    }
   ],
   "source": [
    "df.loc[0, 'Date'].day_name()"
   ]
  },
  {
   "cell_type": "code",
   "execution_count": 270,
   "id": "6649a5a7",
   "metadata": {},
   "outputs": [
    {
     "data": {
      "text/plain": [
       "True"
      ]
     },
     "execution_count": 270,
     "metadata": {},
     "output_type": "execute_result"
    }
   ],
   "source": [
    "df.loc[0, 'Date'].is_leap_year"
   ]
  },
  {
   "cell_type": "markdown",
   "id": "538738e3",
   "metadata": {},
   "source": [
    "Using max, min and substraction function to access the range"
   ]
  },
  {
   "cell_type": "code",
   "execution_count": 271,
   "id": "3ca1d7f5",
   "metadata": {},
   "outputs": [
    {
     "data": {
      "text/plain": [
       "Timedelta('986 days 09:00:00')"
      ]
     },
     "execution_count": 271,
     "metadata": {},
     "output_type": "execute_result"
    }
   ],
   "source": [
    "df['Date'].max() - df['Date'].min()"
   ]
  },
  {
   "cell_type": "markdown",
   "id": "fe9c7524",
   "metadata": {},
   "source": [
    "Filter specific time range"
   ]
  },
  {
   "cell_type": "code",
   "execution_count": 272,
   "id": "c9dd42d0",
   "metadata": {},
   "outputs": [
    {
     "data": {
      "text/html": [
       "<div>\n",
       "<style scoped>\n",
       "    .dataframe tbody tr th:only-of-type {\n",
       "        vertical-align: middle;\n",
       "    }\n",
       "\n",
       "    .dataframe tbody tr th {\n",
       "        vertical-align: top;\n",
       "    }\n",
       "\n",
       "    .dataframe thead th {\n",
       "        text-align: right;\n",
       "    }\n",
       "</style>\n",
       "<table border=\"1\" class=\"dataframe\">\n",
       "  <thead>\n",
       "    <tr style=\"text-align: right;\">\n",
       "      <th></th>\n",
       "      <th>Date</th>\n",
       "      <th>Symbol</th>\n",
       "      <th>Open</th>\n",
       "      <th>High</th>\n",
       "      <th>Low</th>\n",
       "      <th>Close</th>\n",
       "      <th>Volume</th>\n",
       "    </tr>\n",
       "  </thead>\n",
       "  <tbody>\n",
       "    <tr>\n",
       "      <th>1749</th>\n",
       "      <td>2019-12-31 23:00:00</td>\n",
       "      <td>ETHUSD</td>\n",
       "      <td>128.33</td>\n",
       "      <td>128.69</td>\n",
       "      <td>128.14</td>\n",
       "      <td>128.54</td>\n",
       "      <td>440678.91</td>\n",
       "    </tr>\n",
       "    <tr>\n",
       "      <th>1750</th>\n",
       "      <td>2019-12-31 22:00:00</td>\n",
       "      <td>ETHUSD</td>\n",
       "      <td>128.38</td>\n",
       "      <td>128.69</td>\n",
       "      <td>127.95</td>\n",
       "      <td>128.33</td>\n",
       "      <td>554646.02</td>\n",
       "    </tr>\n",
       "    <tr>\n",
       "      <th>1751</th>\n",
       "      <td>2019-12-31 21:00:00</td>\n",
       "      <td>ETHUSD</td>\n",
       "      <td>127.86</td>\n",
       "      <td>128.43</td>\n",
       "      <td>127.72</td>\n",
       "      <td>128.38</td>\n",
       "      <td>350155.69</td>\n",
       "    </tr>\n",
       "    <tr>\n",
       "      <th>1752</th>\n",
       "      <td>2019-12-31 20:00:00</td>\n",
       "      <td>ETHUSD</td>\n",
       "      <td>127.84</td>\n",
       "      <td>128.34</td>\n",
       "      <td>127.71</td>\n",
       "      <td>127.86</td>\n",
       "      <td>428183.38</td>\n",
       "    </tr>\n",
       "    <tr>\n",
       "      <th>1753</th>\n",
       "      <td>2019-12-31 19:00:00</td>\n",
       "      <td>ETHUSD</td>\n",
       "      <td>128.69</td>\n",
       "      <td>128.69</td>\n",
       "      <td>127.60</td>\n",
       "      <td>127.84</td>\n",
       "      <td>1169847.84</td>\n",
       "    </tr>\n",
       "    <tr>\n",
       "      <th>...</th>\n",
       "      <td>...</td>\n",
       "      <td>...</td>\n",
       "      <td>...</td>\n",
       "      <td>...</td>\n",
       "      <td>...</td>\n",
       "      <td>...</td>\n",
       "      <td>...</td>\n",
       "    </tr>\n",
       "    <tr>\n",
       "      <th>19264</th>\n",
       "      <td>2018-01-01 04:00:00</td>\n",
       "      <td>ETHUSD</td>\n",
       "      <td>739.70</td>\n",
       "      <td>748.07</td>\n",
       "      <td>733.02</td>\n",
       "      <td>747.90</td>\n",
       "      <td>3180304.69</td>\n",
       "    </tr>\n",
       "    <tr>\n",
       "      <th>19265</th>\n",
       "      <td>2018-01-01 03:00:00</td>\n",
       "      <td>ETHUSD</td>\n",
       "      <td>730.01</td>\n",
       "      <td>739.70</td>\n",
       "      <td>728.66</td>\n",
       "      <td>739.70</td>\n",
       "      <td>3461348.11</td>\n",
       "    </tr>\n",
       "    <tr>\n",
       "      <th>19266</th>\n",
       "      <td>2018-01-01 02:00:00</td>\n",
       "      <td>ETHUSD</td>\n",
       "      <td>730.02</td>\n",
       "      <td>730.50</td>\n",
       "      <td>727.14</td>\n",
       "      <td>730.01</td>\n",
       "      <td>2950627.37</td>\n",
       "    </tr>\n",
       "    <tr>\n",
       "      <th>19267</th>\n",
       "      <td>2018-01-01 01:00:00</td>\n",
       "      <td>ETHUSD</td>\n",
       "      <td>734.59</td>\n",
       "      <td>735.10</td>\n",
       "      <td>730.01</td>\n",
       "      <td>730.02</td>\n",
       "      <td>1886624.01</td>\n",
       "    </tr>\n",
       "    <tr>\n",
       "      <th>19268</th>\n",
       "      <td>2018-01-01 00:00:00</td>\n",
       "      <td>ETHUSD</td>\n",
       "      <td>741.27</td>\n",
       "      <td>741.27</td>\n",
       "      <td>733.69</td>\n",
       "      <td>734.59</td>\n",
       "      <td>2697546.48</td>\n",
       "    </tr>\n",
       "  </tbody>\n",
       "</table>\n",
       "<p>17520 rows × 7 columns</p>\n",
       "</div>"
      ],
      "text/plain": [
       "                     Date  Symbol    Open    High     Low   Close      Volume\n",
       "1749  2019-12-31 23:00:00  ETHUSD  128.33  128.69  128.14  128.54   440678.91\n",
       "1750  2019-12-31 22:00:00  ETHUSD  128.38  128.69  127.95  128.33   554646.02\n",
       "1751  2019-12-31 21:00:00  ETHUSD  127.86  128.43  127.72  128.38   350155.69\n",
       "1752  2019-12-31 20:00:00  ETHUSD  127.84  128.34  127.71  127.86   428183.38\n",
       "1753  2019-12-31 19:00:00  ETHUSD  128.69  128.69  127.60  127.84  1169847.84\n",
       "...                   ...     ...     ...     ...     ...     ...         ...\n",
       "19264 2018-01-01 04:00:00  ETHUSD  739.70  748.07  733.02  747.90  3180304.69\n",
       "19265 2018-01-01 03:00:00  ETHUSD  730.01  739.70  728.66  739.70  3461348.11\n",
       "19266 2018-01-01 02:00:00  ETHUSD  730.02  730.50  727.14  730.01  2950627.37\n",
       "19267 2018-01-01 01:00:00  ETHUSD  734.59  735.10  730.01  730.02  1886624.01\n",
       "19268 2018-01-01 00:00:00  ETHUSD  741.27  741.27  733.69  734.59  2697546.48\n",
       "\n",
       "[17520 rows x 7 columns]"
      ]
     },
     "execution_count": 272,
     "metadata": {},
     "output_type": "execute_result"
    }
   ],
   "source": [
    "filt = (df['Date'].dt.year <= 2019) & (df['Date'].dt.year >= 2018)\n",
    "df[filt]"
   ]
  },
  {
   "cell_type": "code",
   "execution_count": 273,
   "id": "aca0f6ea",
   "metadata": {},
   "outputs": [
    {
     "data": {
      "text/plain": [
       "dtype('<M8[ns]')"
      ]
     },
     "execution_count": 273,
     "metadata": {},
     "output_type": "execute_result"
    }
   ],
   "source": [
    "df['Date'].dtype"
   ]
  },
  {
   "cell_type": "markdown",
   "id": "77f1f6e3",
   "metadata": {},
   "source": [
    "Notice, you can also set date to index, and then access via `loc[index]`, however, you have to sort the index into a monotonic order first, then you can use slice "
   ]
  },
  {
   "cell_type": "code",
   "execution_count": 274,
   "id": "882e17c3",
   "metadata": {},
   "outputs": [
    {
     "data": {
      "text/html": [
       "<div>\n",
       "<style scoped>\n",
       "    .dataframe tbody tr th:only-of-type {\n",
       "        vertical-align: middle;\n",
       "    }\n",
       "\n",
       "    .dataframe tbody tr th {\n",
       "        vertical-align: top;\n",
       "    }\n",
       "\n",
       "    .dataframe thead th {\n",
       "        text-align: right;\n",
       "    }\n",
       "</style>\n",
       "<table border=\"1\" class=\"dataframe\">\n",
       "  <thead>\n",
       "    <tr style=\"text-align: right;\">\n",
       "      <th></th>\n",
       "      <th>Symbol</th>\n",
       "      <th>Open</th>\n",
       "      <th>High</th>\n",
       "      <th>Low</th>\n",
       "      <th>Close</th>\n",
       "      <th>Volume</th>\n",
       "    </tr>\n",
       "    <tr>\n",
       "      <th>Date</th>\n",
       "      <th></th>\n",
       "      <th></th>\n",
       "      <th></th>\n",
       "      <th></th>\n",
       "      <th></th>\n",
       "      <th></th>\n",
       "    </tr>\n",
       "  </thead>\n",
       "  <tbody>\n",
       "    <tr>\n",
       "      <th>2019-03-01 00:00:00</th>\n",
       "      <td>ETHUSD</td>\n",
       "      <td>134.48</td>\n",
       "      <td>135.27</td>\n",
       "      <td>134.48</td>\n",
       "      <td>135.02</td>\n",
       "      <td>274651.02</td>\n",
       "    </tr>\n",
       "    <tr>\n",
       "      <th>2019-03-01 01:00:00</th>\n",
       "      <td>ETHUSD</td>\n",
       "      <td>135.02</td>\n",
       "      <td>135.06</td>\n",
       "      <td>134.75</td>\n",
       "      <td>135.01</td>\n",
       "      <td>245513.97</td>\n",
       "    </tr>\n",
       "    <tr>\n",
       "      <th>2019-03-01 02:00:00</th>\n",
       "      <td>ETHUSD</td>\n",
       "      <td>135.01</td>\n",
       "      <td>135.20</td>\n",
       "      <td>134.86</td>\n",
       "      <td>134.97</td>\n",
       "      <td>222565.71</td>\n",
       "    </tr>\n",
       "    <tr>\n",
       "      <th>2019-03-01 03:00:00</th>\n",
       "      <td>ETHUSD</td>\n",
       "      <td>134.97</td>\n",
       "      <td>135.79</td>\n",
       "      <td>134.90</td>\n",
       "      <td>135.59</td>\n",
       "      <td>292562.81</td>\n",
       "    </tr>\n",
       "    <tr>\n",
       "      <th>2019-03-01 04:00:00</th>\n",
       "      <td>ETHUSD</td>\n",
       "      <td>135.59</td>\n",
       "      <td>135.60</td>\n",
       "      <td>134.98</td>\n",
       "      <td>135.51</td>\n",
       "      <td>325128.14</td>\n",
       "    </tr>\n",
       "    <tr>\n",
       "      <th>...</th>\n",
       "      <td>...</td>\n",
       "      <td>...</td>\n",
       "      <td>...</td>\n",
       "      <td>...</td>\n",
       "      <td>...</td>\n",
       "      <td>...</td>\n",
       "    </tr>\n",
       "    <tr>\n",
       "      <th>2020-03-13 16:00:00</th>\n",
       "      <td>ETHUSD</td>\n",
       "      <td>124.85</td>\n",
       "      <td>129.51</td>\n",
       "      <td>120.17</td>\n",
       "      <td>124.08</td>\n",
       "      <td>4461424.71</td>\n",
       "    </tr>\n",
       "    <tr>\n",
       "      <th>2020-03-13 17:00:00</th>\n",
       "      <td>ETHUSD</td>\n",
       "      <td>124.08</td>\n",
       "      <td>127.42</td>\n",
       "      <td>121.63</td>\n",
       "      <td>124.47</td>\n",
       "      <td>2753450.92</td>\n",
       "    </tr>\n",
       "    <tr>\n",
       "      <th>2020-03-13 18:00:00</th>\n",
       "      <td>ETHUSD</td>\n",
       "      <td>124.47</td>\n",
       "      <td>124.85</td>\n",
       "      <td>115.50</td>\n",
       "      <td>119.51</td>\n",
       "      <td>4898735.81</td>\n",
       "    </tr>\n",
       "    <tr>\n",
       "      <th>2020-03-13 19:00:00</th>\n",
       "      <td>ETHUSD</td>\n",
       "      <td>119.51</td>\n",
       "      <td>132.02</td>\n",
       "      <td>117.10</td>\n",
       "      <td>129.94</td>\n",
       "      <td>7579741.09</td>\n",
       "    </tr>\n",
       "    <tr>\n",
       "      <th>2020-03-13 20:00:00</th>\n",
       "      <td>ETHUSD</td>\n",
       "      <td>129.94</td>\n",
       "      <td>131.82</td>\n",
       "      <td>126.87</td>\n",
       "      <td>128.71</td>\n",
       "      <td>1940673.93</td>\n",
       "    </tr>\n",
       "  </tbody>\n",
       "</table>\n",
       "<p>9093 rows × 6 columns</p>\n",
       "</div>"
      ],
      "text/plain": [
       "                     Symbol    Open    High     Low   Close      Volume\n",
       "Date                                                                   \n",
       "2019-03-01 00:00:00  ETHUSD  134.48  135.27  134.48  135.02   274651.02\n",
       "2019-03-01 01:00:00  ETHUSD  135.02  135.06  134.75  135.01   245513.97\n",
       "2019-03-01 02:00:00  ETHUSD  135.01  135.20  134.86  134.97   222565.71\n",
       "2019-03-01 03:00:00  ETHUSD  134.97  135.79  134.90  135.59   292562.81\n",
       "2019-03-01 04:00:00  ETHUSD  135.59  135.60  134.98  135.51   325128.14\n",
       "...                     ...     ...     ...     ...     ...         ...\n",
       "2020-03-13 16:00:00  ETHUSD  124.85  129.51  120.17  124.08  4461424.71\n",
       "2020-03-13 17:00:00  ETHUSD  124.08  127.42  121.63  124.47  2753450.92\n",
       "2020-03-13 18:00:00  ETHUSD  124.47  124.85  115.50  119.51  4898735.81\n",
       "2020-03-13 19:00:00  ETHUSD  119.51  132.02  117.10  129.94  7579741.09\n",
       "2020-03-13 20:00:00  ETHUSD  129.94  131.82  126.87  128.71  1940673.93\n",
       "\n",
       "[9093 rows x 6 columns]"
      ]
     },
     "execution_count": 274,
     "metadata": {},
     "output_type": "execute_result"
    }
   ],
   "source": [
    "df = df.set_index('Date')\n",
    "df = df.sort_index()\n",
    "df.loc['2019-03': '2020-03']"
   ]
  },
  {
   "cell_type": "code",
   "execution_count": 275,
   "id": "25c5a82f",
   "metadata": {},
   "outputs": [
    {
     "data": {
      "text/plain": [
       "np.float64(192.51131419773452)"
      ]
     },
     "execution_count": 275,
     "metadata": {},
     "output_type": "execute_result"
    }
   ],
   "source": [
    "df.loc['2019-03': '2020-03']['Close'].mean()"
   ]
  },
  {
   "cell_type": "markdown",
   "id": "540b03ef",
   "metadata": {},
   "source": [
    "We can use resample to play the time series\n",
    "\n",
    "Notice in 2018, lowest price for ETH is 80.6"
   ]
  },
  {
   "cell_type": "code",
   "execution_count": 276,
   "id": "42ceead6",
   "metadata": {},
   "outputs": [
    {
     "data": {
      "text/html": [
       "<div>\n",
       "<style scoped>\n",
       "    .dataframe tbody tr th:only-of-type {\n",
       "        vertical-align: middle;\n",
       "    }\n",
       "\n",
       "    .dataframe tbody tr th {\n",
       "        vertical-align: top;\n",
       "    }\n",
       "\n",
       "    .dataframe thead th {\n",
       "        text-align: right;\n",
       "    }\n",
       "</style>\n",
       "<table border=\"1\" class=\"dataframe\">\n",
       "  <thead>\n",
       "    <tr style=\"text-align: right;\">\n",
       "      <th></th>\n",
       "      <th>Open</th>\n",
       "      <th>High</th>\n",
       "      <th>Low</th>\n",
       "      <th>Close</th>\n",
       "      <th>Volume</th>\n",
       "    </tr>\n",
       "    <tr>\n",
       "      <th>Date</th>\n",
       "      <th></th>\n",
       "      <th></th>\n",
       "      <th></th>\n",
       "      <th></th>\n",
       "      <th></th>\n",
       "    </tr>\n",
       "  </thead>\n",
       "  <tbody>\n",
       "    <tr>\n",
       "      <th>2017-12-31</th>\n",
       "      <td>279.98</td>\n",
       "      <td>875.00</td>\n",
       "      <td>130.26</td>\n",
       "      <td>741.27</td>\n",
       "      <td>1.298966e+10</td>\n",
       "    </tr>\n",
       "    <tr>\n",
       "      <th>2018-12-31</th>\n",
       "      <td>741.27</td>\n",
       "      <td>1419.96</td>\n",
       "      <td>80.60</td>\n",
       "      <td>130.53</td>\n",
       "      <td>2.394412e+10</td>\n",
       "    </tr>\n",
       "    <tr>\n",
       "      <th>2019-12-31</th>\n",
       "      <td>130.53</td>\n",
       "      <td>364.49</td>\n",
       "      <td>100.15</td>\n",
       "      <td>128.54</td>\n",
       "      <td>8.199368e+09</td>\n",
       "    </tr>\n",
       "    <tr>\n",
       "      <th>2020-12-31</th>\n",
       "      <td>128.54</td>\n",
       "      <td>290.00</td>\n",
       "      <td>90.00</td>\n",
       "      <td>128.71</td>\n",
       "      <td>2.476100e+09</td>\n",
       "    </tr>\n",
       "  </tbody>\n",
       "</table>\n",
       "</div>"
      ],
      "text/plain": [
       "              Open     High     Low   Close        Volume\n",
       "Date                                                     \n",
       "2017-12-31  279.98   875.00  130.26  741.27  1.298966e+10\n",
       "2018-12-31  741.27  1419.96   80.60  130.53  2.394412e+10\n",
       "2019-12-31  130.53   364.49  100.15  128.54  8.199368e+09\n",
       "2020-12-31  128.54   290.00   90.00  128.71  2.476100e+09"
      ]
     },
     "execution_count": 276,
     "metadata": {},
     "output_type": "execute_result"
    }
   ],
   "source": [
    "test = df.resample('YE').agg({\n",
    "    'Open': 'first', \n",
    "    'High': 'max', \n",
    "    'Low': 'min', \n",
    "    'Close': 'last',\n",
    "    'Volume': 'sum'\n",
    "})\n",
    "test"
   ]
  },
  {
   "cell_type": "markdown",
   "id": "dfd6242e",
   "metadata": {},
   "source": [
    "Using idxmin(), check the index of the minimum value, access the time, 2018-12-14"
   ]
  },
  {
   "cell_type": "code",
   "execution_count": 277,
   "id": "06e1c300",
   "metadata": {},
   "outputs": [
    {
     "data": {
      "text/plain": [
       "Symbol   2018-01-01 00:00:00\n",
       "Open     2018-12-15 16:00:00\n",
       "High     2018-12-15 16:00:00\n",
       "Low      2018-12-14 21:00:00\n",
       "Close    2018-12-15 15:00:00\n",
       "Volume   2018-02-01 05:00:00\n",
       "dtype: datetime64[ns]"
      ]
     },
     "execution_count": 277,
     "metadata": {},
     "output_type": "execute_result"
    }
   ],
   "source": [
    "df.loc['2018'].idxmin()"
   ]
  },
  {
   "cell_type": "markdown",
   "id": "9cca5e7c",
   "metadata": {},
   "source": [
    "It's true; Now ETH hits 3900 + , so bad did not buy any of these coins.."
   ]
  },
  {
   "cell_type": "markdown",
   "id": "dbb22007",
   "metadata": {},
   "source": [
    "![]( assets/images/eth_2018.png \"Optional Title\")"
   ]
  },
  {
   "cell_type": "code",
   "execution_count": 278,
   "id": "e2fcba06",
   "metadata": {},
   "outputs": [
    {
     "data": {
      "text/plain": [
       "<Axes: xlabel='Date'>"
      ]
     },
     "execution_count": 278,
     "metadata": {},
     "output_type": "execute_result"
    },
    {
     "data": {
      "image/png": "[encoded data removed]",
      "text/plain": [
       "<Figure size 640x480 with 1 Axes>"
      ]
     },
     "metadata": {},
     "output_type": "display_data"
    }
   ],
   "source": [
    "%matplotlib inline\n",
    "month = df.resample('ME').agg({\n",
    "    'Open': 'first', \n",
    "    'High': 'max', \n",
    "    'Low': 'min', \n",
    "    'Close': 'last',\n",
    "    'Volume': 'sum'\n",
    "})\n",
    "month.plot()"
   ]
  }
 ],
 "metadata": {
  "kernelspec": {
   "display_name": ".venv",
   "language": "python",
   "name": "python3"
  },
  "language_info": {
   "codemirror_mode": {
    "name": "ipython",
    "version": 3
   },
   "file_extension": ".py",
   "mimetype": "text/x-python",
   "name": "python",
   "nbconvert_exporter": "python",
   "pygments_lexer": "ipython3",
   "version": "3.13.5"
  }
 },
 "nbformat": 4,
 "nbformat_minor": 5
}
