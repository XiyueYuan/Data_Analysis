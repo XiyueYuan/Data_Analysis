{
 "cells": [
  {
   "cell_type": "code",
   "execution_count": 348,
   "id": "004b0897",
   "metadata": {},
   "outputs": [],
   "source": [
    "import pandas as pd"
   ]
  },
  {
   "cell_type": "code",
   "execution_count": 349,
   "id": "d3ce7f49",
   "metadata": {},
   "outputs": [
    {
     "data": {
      "text/html": [
       "<div>\n",
       "<style scoped>\n",
       "    .dataframe tbody tr th:only-of-type {\n",
       "        vertical-align: middle;\n",
       "    }\n",
       "\n",
       "    .dataframe tbody tr th {\n",
       "        vertical-align: top;\n",
       "    }\n",
       "\n",
       "    .dataframe thead th {\n",
       "        text-align: right;\n",
       "    }\n",
       "</style>\n",
       "<table border=\"1\" class=\"dataframe\">\n",
       "  <thead>\n",
       "    <tr style=\"text-align: right;\">\n",
       "      <th></th>\n",
       "      <th>first</th>\n",
       "      <th>last</th>\n",
       "      <th>email</th>\n",
       "      <th>gender</th>\n",
       "    </tr>\n",
       "  </thead>\n",
       "  <tbody>\n",
       "    <tr>\n",
       "      <th>0</th>\n",
       "      <td>evan</td>\n",
       "      <td>Das</td>\n",
       "      <td>evandas@gmail.com</td>\n",
       "      <td>Male</td>\n",
       "    </tr>\n",
       "    <tr>\n",
       "      <th>1</th>\n",
       "      <td>john</td>\n",
       "      <td>Wachs</td>\n",
       "      <td>johnwachs@hotmail.com</td>\n",
       "      <td>Male</td>\n",
       "    </tr>\n",
       "    <tr>\n",
       "      <th>2</th>\n",
       "      <td>jason</td>\n",
       "      <td>Li</td>\n",
       "      <td>jasonli@outlook.com</td>\n",
       "      <td>Female</td>\n",
       "    </tr>\n",
       "  </tbody>\n",
       "</table>\n",
       "</div>"
      ],
      "text/plain": [
       "   first   last                  email  gender\n",
       "0   evan    Das      evandas@gmail.com    Male\n",
       "1   john  Wachs  johnwachs@hotmail.com    Male\n",
       "2  jason     Li    jasonli@outlook.com  Female"
      ]
     },
     "execution_count": 349,
     "metadata": {},
     "output_type": "execute_result"
    }
   ],
   "source": [
    "people = {\n",
    "    'first': ['evan', 'john', 'jason'], \n",
    "    'last': ['Das', 'Wachs', 'Li'], \n",
    "    'email': ['evandas@gmail.com', 'johnwachs@hotmail.com', 'jasonli@outlook.com'], \n",
    "    'gender': ['Male', 'Male', 'Female']\n",
    "}\n",
    "df_people = pd.DataFrame(people)\n",
    "df_people"
   ]
  },
  {
   "cell_type": "code",
   "execution_count": 350,
   "id": "cc9aba9b",
   "metadata": {},
   "outputs": [
    {
     "data": {
      "text/plain": [
       "0        evandas@gmail.com\n",
       "1    johnwachs@hotmail.com\n",
       "2      jasonli@outlook.com\n",
       "Name: email, dtype: object"
      ]
     },
     "execution_count": 350,
     "metadata": {},
     "output_type": "execute_result"
    }
   ],
   "source": [
    "df_people['email']"
   ]
  },
  {
   "cell_type": "code",
   "execution_count": 351,
   "id": "9f0a73d4",
   "metadata": {},
   "outputs": [
    {
     "data": {
      "text/plain": [
       "pandas.core.series.Series"
      ]
     },
     "execution_count": 351,
     "metadata": {},
     "output_type": "execute_result"
    }
   ],
   "source": [
    "# generate a series object\n",
    "type(df_people['email'])"
   ]
  },
  {
   "cell_type": "code",
   "execution_count": 352,
   "id": "2534d381",
   "metadata": {},
   "outputs": [
    {
     "data": {
      "text/html": [
       "<div>\n",
       "<style scoped>\n",
       "    .dataframe tbody tr th:only-of-type {\n",
       "        vertical-align: middle;\n",
       "    }\n",
       "\n",
       "    .dataframe tbody tr th {\n",
       "        vertical-align: top;\n",
       "    }\n",
       "\n",
       "    .dataframe thead th {\n",
       "        text-align: right;\n",
       "    }\n",
       "</style>\n",
       "<table border=\"1\" class=\"dataframe\">\n",
       "  <thead>\n",
       "    <tr style=\"text-align: right;\">\n",
       "      <th></th>\n",
       "      <th>last</th>\n",
       "      <th>email</th>\n",
       "    </tr>\n",
       "  </thead>\n",
       "  <tbody>\n",
       "    <tr>\n",
       "      <th>0</th>\n",
       "      <td>Das</td>\n",
       "      <td>evandas@gmail.com</td>\n",
       "    </tr>\n",
       "    <tr>\n",
       "      <th>1</th>\n",
       "      <td>Wachs</td>\n",
       "      <td>johnwachs@hotmail.com</td>\n",
       "    </tr>\n",
       "    <tr>\n",
       "      <th>2</th>\n",
       "      <td>Li</td>\n",
       "      <td>jasonli@outlook.com</td>\n",
       "    </tr>\n",
       "  </tbody>\n",
       "</table>\n",
       "</div>"
      ],
      "text/plain": [
       "    last                  email\n",
       "0    Das      evandas@gmail.com\n",
       "1  Wachs  johnwachs@hotmail.com\n",
       "2     Li    jasonli@outlook.com"
      ]
     },
     "execution_count": 352,
     "metadata": {},
     "output_type": "execute_result"
    }
   ],
   "source": [
    "df_people[['last', 'email']]\n",
    "# pass a list inside the dataframe"
   ]
  },
  {
   "cell_type": "code",
   "execution_count": 353,
   "id": "466f3eb5",
   "metadata": {},
   "outputs": [
    {
     "data": {
      "text/plain": [
       "Index(['first', 'last', 'email', 'gender'], dtype='object')"
      ]
     },
     "execution_count": 353,
     "metadata": {},
     "output_type": "execute_result"
    }
   ],
   "source": [
    "df_people.columns"
   ]
  },
  {
   "cell_type": "code",
   "execution_count": 354,
   "id": "66545dbd",
   "metadata": {},
   "outputs": [
    {
     "data": {
      "text/html": [
       "<div>\n",
       "<style scoped>\n",
       "    .dataframe tbody tr th:only-of-type {\n",
       "        vertical-align: middle;\n",
       "    }\n",
       "\n",
       "    .dataframe tbody tr th {\n",
       "        vertical-align: top;\n",
       "    }\n",
       "\n",
       "    .dataframe thead th {\n",
       "        text-align: right;\n",
       "    }\n",
       "</style>\n",
       "<table border=\"1\" class=\"dataframe\">\n",
       "  <thead>\n",
       "    <tr style=\"text-align: right;\">\n",
       "      <th></th>\n",
       "      <th>last</th>\n",
       "      <th>email</th>\n",
       "    </tr>\n",
       "  </thead>\n",
       "  <tbody>\n",
       "    <tr>\n",
       "      <th>0</th>\n",
       "      <td>Das</td>\n",
       "      <td>evandas@gmail.com</td>\n",
       "    </tr>\n",
       "    <tr>\n",
       "      <th>1</th>\n",
       "      <td>Wachs</td>\n",
       "      <td>johnwachs@hotmail.com</td>\n",
       "    </tr>\n",
       "  </tbody>\n",
       "</table>\n",
       "</div>"
      ],
      "text/plain": [
       "    last                  email\n",
       "0    Das      evandas@gmail.com\n",
       "1  Wachs  johnwachs@hotmail.com"
      ]
     },
     "execution_count": 354,
     "metadata": {},
     "output_type": "execute_result"
    }
   ],
   "source": [
    "df_people.iloc[[0, 1], [1, 2]]\n",
    "# iloc using integer index or list[int, int, ...] to locate specific row(s)\n",
    "# or you can choose specific index column\n",
    "# inclusive\n",
    "# slice: row[0, 1] and return their col[1, 2]"
   ]
  },
  {
   "cell_type": "code",
   "execution_count": 355,
   "id": "10fb7a28",
   "metadata": {},
   "outputs": [
    {
     "data": {
      "text/plain": [
       "0        evandas@gmail.com\n",
       "1    johnwachs@hotmail.com\n",
       "Name: email, dtype: object"
      ]
     },
     "execution_count": 355,
     "metadata": {},
     "output_type": "execute_result"
    }
   ],
   "source": [
    "df_people.loc[[0, 1], 'email']"
   ]
  },
  {
   "cell_type": "code",
   "execution_count": 356,
   "id": "30a52a3c",
   "metadata": {},
   "outputs": [],
   "source": [
    "df_people.set_index('email', inplace = True)\n",
    "# set a column as index\n",
    "# original wont be inplace changed by default\n"
   ]
  },
  {
   "cell_type": "code",
   "execution_count": 357,
   "id": "90ca64e9",
   "metadata": {},
   "outputs": [
    {
     "data": {
      "text/plain": [
       "'Das'"
      ]
     },
     "execution_count": 357,
     "metadata": {},
     "output_type": "execute_result"
    }
   ],
   "source": [
    "df_people.loc['evandas@gmail.com', 'last']\n",
    "# then you can use loc to access the `index`"
   ]
  },
  {
   "cell_type": "markdown",
   "id": "7d447452",
   "metadata": {},
   "source": [
    "You can rename the dataframe simply by input another list"
   ]
  },
  {
   "cell_type": "code",
   "execution_count": 358,
   "id": "0e06c366",
   "metadata": {},
   "outputs": [
    {
     "data": {
      "text/html": [
       "<div>\n",
       "<style scoped>\n",
       "    .dataframe tbody tr th:only-of-type {\n",
       "        vertical-align: middle;\n",
       "    }\n",
       "\n",
       "    .dataframe tbody tr th {\n",
       "        vertical-align: top;\n",
       "    }\n",
       "\n",
       "    .dataframe thead th {\n",
       "        text-align: right;\n",
       "    }\n",
       "</style>\n",
       "<table border=\"1\" class=\"dataframe\">\n",
       "  <thead>\n",
       "    <tr style=\"text-align: right;\">\n",
       "      <th></th>\n",
       "      <th>first_name</th>\n",
       "      <th>last_name</th>\n",
       "      <th>Gender</th>\n",
       "    </tr>\n",
       "    <tr>\n",
       "      <th>email</th>\n",
       "      <th></th>\n",
       "      <th></th>\n",
       "      <th></th>\n",
       "    </tr>\n",
       "  </thead>\n",
       "  <tbody>\n",
       "    <tr>\n",
       "      <th>evandas@gmail.com</th>\n",
       "      <td>evan</td>\n",
       "      <td>Das</td>\n",
       "      <td>Male</td>\n",
       "    </tr>\n",
       "    <tr>\n",
       "      <th>johnwachs@hotmail.com</th>\n",
       "      <td>john</td>\n",
       "      <td>Wachs</td>\n",
       "      <td>Male</td>\n",
       "    </tr>\n",
       "    <tr>\n",
       "      <th>jasonli@outlook.com</th>\n",
       "      <td>jason</td>\n",
       "      <td>Li</td>\n",
       "      <td>Female</td>\n",
       "    </tr>\n",
       "  </tbody>\n",
       "</table>\n",
       "</div>"
      ],
      "text/plain": [
       "                      first_name last_name  Gender\n",
       "email                                             \n",
       "evandas@gmail.com           evan       Das    Male\n",
       "johnwachs@hotmail.com       john     Wachs    Male\n",
       "jasonli@outlook.com        jason        Li  Female"
      ]
     },
     "execution_count": 358,
     "metadata": {},
     "output_type": "execute_result"
    }
   ],
   "source": [
    "df_people.columns\n",
    "df_people.columns = ['first_name', 'last_name', 'Gender']\n",
    "df_people"
   ]
  },
  {
   "cell_type": "markdown",
   "id": "459a8ad5",
   "metadata": {},
   "source": [
    "You can also use list comprehension to rename all the column names"
   ]
  },
  {
   "cell_type": "code",
   "execution_count": 359,
   "id": "98ede827",
   "metadata": {},
   "outputs": [
    {
     "data": {
      "text/html": [
       "<div>\n",
       "<style scoped>\n",
       "    .dataframe tbody tr th:only-of-type {\n",
       "        vertical-align: middle;\n",
       "    }\n",
       "\n",
       "    .dataframe tbody tr th {\n",
       "        vertical-align: top;\n",
       "    }\n",
       "\n",
       "    .dataframe thead th {\n",
       "        text-align: right;\n",
       "    }\n",
       "</style>\n",
       "<table border=\"1\" class=\"dataframe\">\n",
       "  <thead>\n",
       "    <tr style=\"text-align: right;\">\n",
       "      <th></th>\n",
       "      <th>FIRST_NAME</th>\n",
       "      <th>LAST_NAME</th>\n",
       "      <th>GENDER</th>\n",
       "    </tr>\n",
       "    <tr>\n",
       "      <th>email</th>\n",
       "      <th></th>\n",
       "      <th></th>\n",
       "      <th></th>\n",
       "    </tr>\n",
       "  </thead>\n",
       "  <tbody>\n",
       "    <tr>\n",
       "      <th>evandas@gmail.com</th>\n",
       "      <td>evan</td>\n",
       "      <td>Das</td>\n",
       "      <td>Male</td>\n",
       "    </tr>\n",
       "    <tr>\n",
       "      <th>johnwachs@hotmail.com</th>\n",
       "      <td>john</td>\n",
       "      <td>Wachs</td>\n",
       "      <td>Male</td>\n",
       "    </tr>\n",
       "    <tr>\n",
       "      <th>jasonli@outlook.com</th>\n",
       "      <td>jason</td>\n",
       "      <td>Li</td>\n",
       "      <td>Female</td>\n",
       "    </tr>\n",
       "  </tbody>\n",
       "</table>\n",
       "</div>"
      ],
      "text/plain": [
       "                      FIRST_NAME LAST_NAME  GENDER\n",
       "email                                             \n",
       "evandas@gmail.com           evan       Das    Male\n",
       "johnwachs@hotmail.com       john     Wachs    Male\n",
       "jasonli@outlook.com        jason        Li  Female"
      ]
     },
     "execution_count": 359,
     "metadata": {},
     "output_type": "execute_result"
    }
   ],
   "source": [
    "df_people.columns = [x.upper() for x in df_people.columns]\n",
    "df_people"
   ]
  },
  {
   "cell_type": "markdown",
   "id": "88e23d96",
   "metadata": {},
   "source": [
    "`str.replace` function\n"
   ]
  },
  {
   "cell_type": "code",
   "execution_count": 360,
   "id": "9482e669",
   "metadata": {},
   "outputs": [
    {
     "data": {
      "text/html": [
       "<div>\n",
       "<style scoped>\n",
       "    .dataframe tbody tr th:only-of-type {\n",
       "        vertical-align: middle;\n",
       "    }\n",
       "\n",
       "    .dataframe tbody tr th {\n",
       "        vertical-align: top;\n",
       "    }\n",
       "\n",
       "    .dataframe thead th {\n",
       "        text-align: right;\n",
       "    }\n",
       "</style>\n",
       "<table border=\"1\" class=\"dataframe\">\n",
       "  <thead>\n",
       "    <tr style=\"text-align: right;\">\n",
       "      <th></th>\n",
       "      <th>FIRST NAME</th>\n",
       "      <th>LAST NAME</th>\n",
       "      <th>GENDER</th>\n",
       "    </tr>\n",
       "    <tr>\n",
       "      <th>email</th>\n",
       "      <th></th>\n",
       "      <th></th>\n",
       "      <th></th>\n",
       "    </tr>\n",
       "  </thead>\n",
       "  <tbody>\n",
       "    <tr>\n",
       "      <th>evandas@gmail.com</th>\n",
       "      <td>evan</td>\n",
       "      <td>Das</td>\n",
       "      <td>Male</td>\n",
       "    </tr>\n",
       "    <tr>\n",
       "      <th>johnwachs@hotmail.com</th>\n",
       "      <td>john</td>\n",
       "      <td>Wachs</td>\n",
       "      <td>Male</td>\n",
       "    </tr>\n",
       "    <tr>\n",
       "      <th>jasonli@outlook.com</th>\n",
       "      <td>jason</td>\n",
       "      <td>Li</td>\n",
       "      <td>Female</td>\n",
       "    </tr>\n",
       "  </tbody>\n",
       "</table>\n",
       "</div>"
      ],
      "text/plain": [
       "                      FIRST NAME LAST NAME  GENDER\n",
       "email                                             \n",
       "evandas@gmail.com           evan       Das    Male\n",
       "johnwachs@hotmail.com       john     Wachs    Male\n",
       "jasonli@outlook.com        jason        Li  Female"
      ]
     },
     "execution_count": 360,
     "metadata": {},
     "output_type": "execute_result"
    }
   ],
   "source": [
    "df_people.columns = df_people.columns.str.replace('_', ' ')\n",
    "df_people"
   ]
  },
  {
   "cell_type": "markdown",
   "id": "38b58b72",
   "metadata": {},
   "source": [
    "use `df.rename(columns = {})` function to rename, `inplace = False` by default"
   ]
  },
  {
   "cell_type": "code",
   "execution_count": 361,
   "id": "f36f7f4f",
   "metadata": {},
   "outputs": [],
   "source": [
    "df_people.rename(columns = {\n",
    "    'FIRST NAME': 'first_name',\n",
    "    'LAST NAME': 'last_name'\n",
    "}, inplace = True)"
   ]
  },
  {
   "cell_type": "markdown",
   "id": "110327d6",
   "metadata": {},
   "source": [
    "Notice `iloc` only receive Integers, it asks for index, `loc` can take both row labels (index) and column labels"
   ]
  },
  {
   "cell_type": "code",
   "execution_count": 362,
   "id": "c547550c",
   "metadata": {},
   "outputs": [
    {
     "data": {
      "text/html": [
       "<div>\n",
       "<style scoped>\n",
       "    .dataframe tbody tr th:only-of-type {\n",
       "        vertical-align: middle;\n",
       "    }\n",
       "\n",
       "    .dataframe tbody tr th {\n",
       "        vertical-align: top;\n",
       "    }\n",
       "\n",
       "    .dataframe thead th {\n",
       "        text-align: right;\n",
       "    }\n",
       "</style>\n",
       "<table border=\"1\" class=\"dataframe\">\n",
       "  <thead>\n",
       "    <tr style=\"text-align: right;\">\n",
       "      <th></th>\n",
       "      <th>first_name</th>\n",
       "      <th>last_name</th>\n",
       "      <th>GENDER</th>\n",
       "    </tr>\n",
       "    <tr>\n",
       "      <th>email</th>\n",
       "      <th></th>\n",
       "      <th></th>\n",
       "      <th></th>\n",
       "    </tr>\n",
       "  </thead>\n",
       "  <tbody>\n",
       "    <tr>\n",
       "      <th>evandas@gmail.com</th>\n",
       "      <td>EVAN</td>\n",
       "      <td>DAS</td>\n",
       "      <td>Male</td>\n",
       "    </tr>\n",
       "    <tr>\n",
       "      <th>johnwachs@hotmail.com</th>\n",
       "      <td>john</td>\n",
       "      <td>Wachs</td>\n",
       "      <td>Male</td>\n",
       "    </tr>\n",
       "    <tr>\n",
       "      <th>jasonli@outlook.com</th>\n",
       "      <td>jason</td>\n",
       "      <td>Li</td>\n",
       "      <td>Female</td>\n",
       "    </tr>\n",
       "  </tbody>\n",
       "</table>\n",
       "</div>"
      ],
      "text/plain": [
       "                      first_name last_name  GENDER\n",
       "email                                             \n",
       "evandas@gmail.com           EVAN       DAS    Male\n",
       "johnwachs@hotmail.com       john     Wachs    Male\n",
       "jasonli@outlook.com        jason        Li  Female"
      ]
     },
     "execution_count": 362,
     "metadata": {},
     "output_type": "execute_result"
    }
   ],
   "source": [
    "df_people.loc['evandas@gmail.com', ['first_name', 'last_name']] = ['EVAN', 'DAS']\n",
    "df_people"
   ]
  },
  {
   "cell_type": "markdown",
   "id": "a9c2a4af",
   "metadata": {},
   "source": [
    "change one value"
   ]
  },
  {
   "cell_type": "code",
   "execution_count": 363,
   "id": "9d84fbba",
   "metadata": {},
   "outputs": [
    {
     "data": {
      "text/html": [
       "<div>\n",
       "<style scoped>\n",
       "    .dataframe tbody tr th:only-of-type {\n",
       "        vertical-align: middle;\n",
       "    }\n",
       "\n",
       "    .dataframe tbody tr th {\n",
       "        vertical-align: top;\n",
       "    }\n",
       "\n",
       "    .dataframe thead th {\n",
       "        text-align: right;\n",
       "    }\n",
       "</style>\n",
       "<table border=\"1\" class=\"dataframe\">\n",
       "  <thead>\n",
       "    <tr style=\"text-align: right;\">\n",
       "      <th></th>\n",
       "      <th>first_name</th>\n",
       "      <th>last_name</th>\n",
       "      <th>GENDER</th>\n",
       "    </tr>\n",
       "    <tr>\n",
       "      <th>email</th>\n",
       "      <th></th>\n",
       "      <th></th>\n",
       "      <th></th>\n",
       "    </tr>\n",
       "  </thead>\n",
       "  <tbody>\n",
       "    <tr>\n",
       "      <th>evandas@gmail.com</th>\n",
       "      <td>EVAN</td>\n",
       "      <td>DAS</td>\n",
       "      <td>Male</td>\n",
       "    </tr>\n",
       "    <tr>\n",
       "      <th>johnwachs@hotmail.com</th>\n",
       "      <td>JOHN</td>\n",
       "      <td>Wachs</td>\n",
       "      <td>Male</td>\n",
       "    </tr>\n",
       "    <tr>\n",
       "      <th>jasonli@outlook.com</th>\n",
       "      <td>jason</td>\n",
       "      <td>Li</td>\n",
       "      <td>Female</td>\n",
       "    </tr>\n",
       "  </tbody>\n",
       "</table>\n",
       "</div>"
      ],
      "text/plain": [
       "                      first_name last_name  GENDER\n",
       "email                                             \n",
       "evandas@gmail.com           EVAN       DAS    Male\n",
       "johnwachs@hotmail.com       JOHN     Wachs    Male\n",
       "jasonli@outlook.com        jason        Li  Female"
      ]
     },
     "execution_count": 363,
     "metadata": {},
     "output_type": "execute_result"
    }
   ],
   "source": [
    "df_people.loc['johnwachs@hotmail.com', 'first_name'] = 'JOHN'\n",
    "df_people"
   ]
  },
  {
   "cell_type": "code",
   "execution_count": 364,
   "id": "fbff5504",
   "metadata": {},
   "outputs": [
    {
     "data": {
      "text/html": [
       "<div>\n",
       "<style scoped>\n",
       "    .dataframe tbody tr th:only-of-type {\n",
       "        vertical-align: middle;\n",
       "    }\n",
       "\n",
       "    .dataframe tbody tr th {\n",
       "        vertical-align: top;\n",
       "    }\n",
       "\n",
       "    .dataframe thead th {\n",
       "        text-align: right;\n",
       "    }\n",
       "</style>\n",
       "<table border=\"1\" class=\"dataframe\">\n",
       "  <thead>\n",
       "    <tr style=\"text-align: right;\">\n",
       "      <th></th>\n",
       "      <th>email</th>\n",
       "      <th>first_name</th>\n",
       "      <th>last_name</th>\n",
       "      <th>GENDER</th>\n",
       "    </tr>\n",
       "  </thead>\n",
       "  <tbody>\n",
       "    <tr>\n",
       "      <th>0</th>\n",
       "      <td>evandas@gmail.com</td>\n",
       "      <td>EVAN</td>\n",
       "      <td>DAS</td>\n",
       "      <td>Male</td>\n",
       "    </tr>\n",
       "    <tr>\n",
       "      <th>1</th>\n",
       "      <td>johnwachs@hotmail.com</td>\n",
       "      <td>JOHN</td>\n",
       "      <td>Wachs</td>\n",
       "      <td>Male</td>\n",
       "    </tr>\n",
       "    <tr>\n",
       "      <th>2</th>\n",
       "      <td>jasonli@outlook.com</td>\n",
       "      <td>jason</td>\n",
       "      <td>Li</td>\n",
       "      <td>Female</td>\n",
       "    </tr>\n",
       "  </tbody>\n",
       "</table>\n",
       "</div>"
      ],
      "text/plain": [
       "                   email first_name last_name  GENDER\n",
       "0      evandas@gmail.com       EVAN       DAS    Male\n",
       "1  johnwachs@hotmail.com       JOHN     Wachs    Male\n",
       "2    jasonli@outlook.com      jason        Li  Female"
      ]
     },
     "execution_count": 364,
     "metadata": {},
     "output_type": "execute_result"
    }
   ],
   "source": [
    "df_peoplp = df_people.reset_index(inplace = True)\n",
    "# reset index back to 0\n",
    "df_people\n"
   ]
  },
  {
   "cell_type": "code",
   "execution_count": 365,
   "id": "057b1daf",
   "metadata": {},
   "outputs": [
    {
     "data": {
      "text/html": [
       "<div>\n",
       "<style scoped>\n",
       "    .dataframe tbody tr th:only-of-type {\n",
       "        vertical-align: middle;\n",
       "    }\n",
       "\n",
       "    .dataframe tbody tr th {\n",
       "        vertical-align: top;\n",
       "    }\n",
       "\n",
       "    .dataframe thead th {\n",
       "        text-align: right;\n",
       "    }\n",
       "</style>\n",
       "<table border=\"1\" class=\"dataframe\">\n",
       "  <thead>\n",
       "    <tr style=\"text-align: right;\">\n",
       "      <th></th>\n",
       "      <th>email</th>\n",
       "      <th>first_name</th>\n",
       "      <th>last_name</th>\n",
       "      <th>GENDER</th>\n",
       "    </tr>\n",
       "  </thead>\n",
       "  <tbody>\n",
       "    <tr>\n",
       "      <th>0</th>\n",
       "      <td>evandas@gmail.com</td>\n",
       "      <td>EVAN</td>\n",
       "      <td>DAS</td>\n",
       "      <td>Male</td>\n",
       "    </tr>\n",
       "    <tr>\n",
       "      <th>1</th>\n",
       "      <td>johnwachs@hotmail.com</td>\n",
       "      <td>JOHN</td>\n",
       "      <td>Wachs</td>\n",
       "      <td>Male</td>\n",
       "    </tr>\n",
       "    <tr>\n",
       "      <th>2</th>\n",
       "      <td>jasonli@outlook.com</td>\n",
       "      <td>jason</td>\n",
       "      <td>Li</td>\n",
       "      <td>Female</td>\n",
       "    </tr>\n",
       "  </tbody>\n",
       "</table>\n",
       "</div>"
      ],
      "text/plain": [
       "                   email first_name last_name  GENDER\n",
       "0      evandas@gmail.com       EVAN       DAS    Male\n",
       "1  johnwachs@hotmail.com       JOHN     Wachs    Male\n",
       "2    jasonli@outlook.com      jason        Li  Female"
      ]
     },
     "execution_count": 365,
     "metadata": {},
     "output_type": "execute_result"
    }
   ],
   "source": [
    "# set all email address to upper case\n",
    "# Approach 1\n",
    "df_people['email'] = df_people['email'].str.lower()\n",
    "df_people"
   ]
  },
  {
   "cell_type": "markdown",
   "id": "91930ffa",
   "metadata": {},
   "source": [
    "__`apply` passes every columns by default__"
   ]
  },
  {
   "cell_type": "code",
   "execution_count": 366,
   "id": "f9e21bd2",
   "metadata": {},
   "outputs": [
    {
     "data": {
      "text/plain": [
       "0        EVANDAS@GMAIL.COM\n",
       "1    JOHNWACHS@HOTMAIL.COM\n",
       "2      JASONLI@OUTLOOK.COM\n",
       "Name: email, dtype: object"
      ]
     },
     "execution_count": 366,
     "metadata": {},
     "output_type": "execute_result"
    }
   ],
   "source": [
    "# Approach 2\n",
    "# Using apply to pass a function\n",
    "def update_email(email):\n",
    "    return email.upper()\n",
    "df_people['email'].apply(update_email)"
   ]
  },
  {
   "cell_type": "code",
   "execution_count": 367,
   "id": "0752751b",
   "metadata": {},
   "outputs": [
    {
     "data": {
      "text/plain": [
       "0        EVANDAS@GMAIL.COM\n",
       "1    JOHNWACHS@HOTMAIL.COM\n",
       "2      JASONLI@OUTLOOK.COM\n",
       "Name: email, dtype: object"
      ]
     },
     "execution_count": 367,
     "metadata": {},
     "output_type": "execute_result"
    }
   ],
   "source": [
    "# Approach 3, same with Approach 2\n",
    "df_people['email'].apply(lambda x: x.upper())"
   ]
  },
  {
   "cell_type": "code",
   "execution_count": 368,
   "id": "d44f324a",
   "metadata": {},
   "outputs": [
    {
     "data": {
      "text/html": [
       "<div>\n",
       "<style scoped>\n",
       "    .dataframe tbody tr th:only-of-type {\n",
       "        vertical-align: middle;\n",
       "    }\n",
       "\n",
       "    .dataframe tbody tr th {\n",
       "        vertical-align: top;\n",
       "    }\n",
       "\n",
       "    .dataframe thead th {\n",
       "        text-align: right;\n",
       "    }\n",
       "</style>\n",
       "<table border=\"1\" class=\"dataframe\">\n",
       "  <thead>\n",
       "    <tr style=\"text-align: right;\">\n",
       "      <th></th>\n",
       "      <th>email</th>\n",
       "      <th>first_name</th>\n",
       "      <th>last_name</th>\n",
       "      <th>GENDER</th>\n",
       "    </tr>\n",
       "  </thead>\n",
       "  <tbody>\n",
       "    <tr>\n",
       "      <th>0</th>\n",
       "      <td>evandas@gmail.com</td>\n",
       "      <td>EVAN</td>\n",
       "      <td>DAS</td>\n",
       "      <td>Male</td>\n",
       "    </tr>\n",
       "    <tr>\n",
       "      <th>1</th>\n",
       "      <td>johnwachs@hotmail.com</td>\n",
       "      <td>JOHN</td>\n",
       "      <td>Wachs</td>\n",
       "      <td>Male</td>\n",
       "    </tr>\n",
       "    <tr>\n",
       "      <th>2</th>\n",
       "      <td>jasonli@outlook.com</td>\n",
       "      <td>jason</td>\n",
       "      <td>Li</td>\n",
       "      <td>Female</td>\n",
       "    </tr>\n",
       "  </tbody>\n",
       "</table>\n",
       "</div>"
      ],
      "text/plain": [
       "                   email first_name last_name  GENDER\n",
       "0      evandas@gmail.com       EVAN       DAS    Male\n",
       "1  johnwachs@hotmail.com       JOHN     Wachs    Male\n",
       "2    jasonli@outlook.com      jason        Li  Female"
      ]
     },
     "execution_count": 368,
     "metadata": {},
     "output_type": "execute_result"
    }
   ],
   "source": [
    "df_people"
   ]
  },
  {
   "cell_type": "code",
   "execution_count": 369,
   "id": "b69cc959",
   "metadata": {},
   "outputs": [
    {
     "data": {
      "text/plain": [
       "0    4\n",
       "1    4\n",
       "2    4\n",
       "dtype: int64"
      ]
     },
     "execution_count": 369,
     "metadata": {},
     "output_type": "execute_result"
    }
   ],
   "source": [
    "df_people.apply(len, axis = 'columns')"
   ]
  },
  {
   "cell_type": "markdown",
   "id": "278330dc",
   "metadata": {},
   "source": [
    "`axis = 'rows'` by default"
   ]
  },
  {
   "cell_type": "code",
   "execution_count": 370,
   "id": "16851b51",
   "metadata": {},
   "outputs": [
    {
     "data": {
      "text/plain": [
       "email         3\n",
       "first_name    3\n",
       "last_name     3\n",
       "GENDER        3\n",
       "dtype: int64"
      ]
     },
     "execution_count": 370,
     "metadata": {},
     "output_type": "execute_result"
    }
   ],
   "source": [
    "df_people.apply(len)"
   ]
  },
  {
   "cell_type": "code",
   "execution_count": 371,
   "id": "0cce7652",
   "metadata": {},
   "outputs": [
    {
     "data": {
      "text/html": [
       "<div>\n",
       "<style scoped>\n",
       "    .dataframe tbody tr th:only-of-type {\n",
       "        vertical-align: middle;\n",
       "    }\n",
       "\n",
       "    .dataframe tbody tr th {\n",
       "        vertical-align: top;\n",
       "    }\n",
       "\n",
       "    .dataframe thead th {\n",
       "        text-align: right;\n",
       "    }\n",
       "</style>\n",
       "<table border=\"1\" class=\"dataframe\">\n",
       "  <thead>\n",
       "    <tr style=\"text-align: right;\">\n",
       "      <th></th>\n",
       "      <th>email</th>\n",
       "      <th>first_name</th>\n",
       "      <th>last_name</th>\n",
       "      <th>GENDER</th>\n",
       "    </tr>\n",
       "  </thead>\n",
       "  <tbody>\n",
       "    <tr>\n",
       "      <th>0</th>\n",
       "      <td>evandas@gmail.com</td>\n",
       "      <td>EVAN</td>\n",
       "      <td>DAS</td>\n",
       "      <td>Male</td>\n",
       "    </tr>\n",
       "    <tr>\n",
       "      <th>1</th>\n",
       "      <td>johnwachs@hotmail.com</td>\n",
       "      <td>JOHN</td>\n",
       "      <td>Wachs</td>\n",
       "      <td>Male</td>\n",
       "    </tr>\n",
       "    <tr>\n",
       "      <th>2</th>\n",
       "      <td>jasonli@outlook.com</td>\n",
       "      <td>jason</td>\n",
       "      <td>Li</td>\n",
       "      <td>Female</td>\n",
       "    </tr>\n",
       "  </tbody>\n",
       "</table>\n",
       "</div>"
      ],
      "text/plain": [
       "                   email first_name last_name  GENDER\n",
       "0      evandas@gmail.com       EVAN       DAS    Male\n",
       "1  johnwachs@hotmail.com       JOHN     Wachs    Male\n",
       "2    jasonli@outlook.com      jason        Li  Female"
      ]
     },
     "execution_count": 371,
     "metadata": {},
     "output_type": "execute_result"
    }
   ],
   "source": [
    "df_people"
   ]
  },
  {
   "cell_type": "markdown",
   "id": "9c745663",
   "metadata": {},
   "source": [
    "`map()` similar to list comprehension, it applies sth to every value in the list\n",
    "\n",
    "`lambda x: x.map(len)` == `lambda col: [len(x) for x in col]`\n",
    "\n",
    "######## Notice `map(func)` can only applied to pandas series， therefore `map(lambda x: )` is often used"
   ]
  },
  {
   "cell_type": "code",
   "execution_count": 372,
   "id": "bcacd106",
   "metadata": {},
   "outputs": [
    {
     "data": {
      "text/html": [
       "<div>\n",
       "<style scoped>\n",
       "    .dataframe tbody tr th:only-of-type {\n",
       "        vertical-align: middle;\n",
       "    }\n",
       "\n",
       "    .dataframe tbody tr th {\n",
       "        vertical-align: top;\n",
       "    }\n",
       "\n",
       "    .dataframe thead th {\n",
       "        text-align: right;\n",
       "    }\n",
       "</style>\n",
       "<table border=\"1\" class=\"dataframe\">\n",
       "  <thead>\n",
       "    <tr style=\"text-align: right;\">\n",
       "      <th></th>\n",
       "      <th>email</th>\n",
       "      <th>first_name</th>\n",
       "      <th>last_name</th>\n",
       "      <th>GENDER</th>\n",
       "    </tr>\n",
       "  </thead>\n",
       "  <tbody>\n",
       "    <tr>\n",
       "      <th>0</th>\n",
       "      <td>17</td>\n",
       "      <td>4</td>\n",
       "      <td>3</td>\n",
       "      <td>4</td>\n",
       "    </tr>\n",
       "    <tr>\n",
       "      <th>1</th>\n",
       "      <td>21</td>\n",
       "      <td>4</td>\n",
       "      <td>5</td>\n",
       "      <td>4</td>\n",
       "    </tr>\n",
       "    <tr>\n",
       "      <th>2</th>\n",
       "      <td>19</td>\n",
       "      <td>5</td>\n",
       "      <td>2</td>\n",
       "      <td>6</td>\n",
       "    </tr>\n",
       "  </tbody>\n",
       "</table>\n",
       "</div>"
      ],
      "text/plain": [
       "   email  first_name  last_name  GENDER\n",
       "0     17           4          3       4\n",
       "1     21           4          5       4\n",
       "2     19           5          2       6"
      ]
     },
     "execution_count": 372,
     "metadata": {},
     "output_type": "execute_result"
    }
   ],
   "source": [
    "df_people.apply(lambda x: x.map(len)) \n",
    "df_people.apply(lambda col: [len(x) for x in col])"
   ]
  },
  {
   "cell_type": "markdown",
   "id": "473e1359",
   "metadata": {},
   "source": [
    "`replace`"
   ]
  },
  {
   "cell_type": "code",
   "execution_count": 373,
   "id": "95787c3b",
   "metadata": {},
   "outputs": [
    {
     "data": {
      "text/html": [
       "<div>\n",
       "<style scoped>\n",
       "    .dataframe tbody tr th:only-of-type {\n",
       "        vertical-align: middle;\n",
       "    }\n",
       "\n",
       "    .dataframe tbody tr th {\n",
       "        vertical-align: top;\n",
       "    }\n",
       "\n",
       "    .dataframe thead th {\n",
       "        text-align: right;\n",
       "    }\n",
       "</style>\n",
       "<table border=\"1\" class=\"dataframe\">\n",
       "  <thead>\n",
       "    <tr style=\"text-align: right;\">\n",
       "      <th></th>\n",
       "      <th>email</th>\n",
       "      <th>first_name</th>\n",
       "      <th>last_name</th>\n",
       "      <th>GENDER</th>\n",
       "    </tr>\n",
       "  </thead>\n",
       "  <tbody>\n",
       "    <tr>\n",
       "      <th>0</th>\n",
       "      <td>evandas@gmail.com</td>\n",
       "      <td>evan</td>\n",
       "      <td>DAS</td>\n",
       "      <td>Male</td>\n",
       "    </tr>\n",
       "    <tr>\n",
       "      <th>1</th>\n",
       "      <td>johnwachs@hotmail.com</td>\n",
       "      <td>JOHN</td>\n",
       "      <td>Wachs</td>\n",
       "      <td>Male</td>\n",
       "    </tr>\n",
       "    <tr>\n",
       "      <th>2</th>\n",
       "      <td>jasonli@outlook.com</td>\n",
       "      <td>jason</td>\n",
       "      <td>Li</td>\n",
       "      <td>Female</td>\n",
       "    </tr>\n",
       "  </tbody>\n",
       "</table>\n",
       "</div>"
      ],
      "text/plain": [
       "                   email first_name last_name  GENDER\n",
       "0      evandas@gmail.com       evan       DAS    Male\n",
       "1  johnwachs@hotmail.com       JOHN     Wachs    Male\n",
       "2    jasonli@outlook.com      jason        Li  Female"
      ]
     },
     "execution_count": 373,
     "metadata": {},
     "output_type": "execute_result"
    }
   ],
   "source": [
    "df_people['first_name'] = df_people['first_name'].replace({'EVAN': 'evan'})\n",
    "df_people"
   ]
  },
  {
   "cell_type": "markdown",
   "id": "96e75364",
   "metadata": {},
   "source": [
    "Print with string format/ combining columns, can also use `apply()` function"
   ]
  },
  {
   "cell_type": "code",
   "execution_count": 374,
   "id": "89235827",
   "metadata": {},
   "outputs": [
    {
     "data": {
      "text/plain": [
       "0      evan DAS\n",
       "1    JOHN Wachs\n",
       "2      jason Li\n",
       "dtype: object"
      ]
     },
     "execution_count": 374,
     "metadata": {},
     "output_type": "execute_result"
    }
   ],
   "source": [
    "df_people['first_name'] + ' ' + df_people['last_name']"
   ]
  },
  {
   "cell_type": "code",
   "execution_count": 375,
   "id": "d7c99956",
   "metadata": {},
   "outputs": [
    {
     "data": {
      "text/html": [
       "<div>\n",
       "<style scoped>\n",
       "    .dataframe tbody tr th:only-of-type {\n",
       "        vertical-align: middle;\n",
       "    }\n",
       "\n",
       "    .dataframe tbody tr th {\n",
       "        vertical-align: top;\n",
       "    }\n",
       "\n",
       "    .dataframe thead th {\n",
       "        text-align: right;\n",
       "    }\n",
       "</style>\n",
       "<table border=\"1\" class=\"dataframe\">\n",
       "  <thead>\n",
       "    <tr style=\"text-align: right;\">\n",
       "      <th></th>\n",
       "      <th>email</th>\n",
       "      <th>first_name</th>\n",
       "      <th>last_name</th>\n",
       "      <th>GENDER</th>\n",
       "      <th>full_name</th>\n",
       "    </tr>\n",
       "  </thead>\n",
       "  <tbody>\n",
       "    <tr>\n",
       "      <th>0</th>\n",
       "      <td>evandas@gmail.com</td>\n",
       "      <td>evan</td>\n",
       "      <td>DAS</td>\n",
       "      <td>Male</td>\n",
       "      <td>evan DAS</td>\n",
       "    </tr>\n",
       "    <tr>\n",
       "      <th>1</th>\n",
       "      <td>johnwachs@hotmail.com</td>\n",
       "      <td>JOHN</td>\n",
       "      <td>Wachs</td>\n",
       "      <td>Male</td>\n",
       "      <td>JOHN Wachs</td>\n",
       "    </tr>\n",
       "    <tr>\n",
       "      <th>2</th>\n",
       "      <td>jasonli@outlook.com</td>\n",
       "      <td>jason</td>\n",
       "      <td>Li</td>\n",
       "      <td>Female</td>\n",
       "      <td>jason Li</td>\n",
       "    </tr>\n",
       "  </tbody>\n",
       "</table>\n",
       "</div>"
      ],
      "text/plain": [
       "                   email first_name last_name  GENDER   full_name\n",
       "0      evandas@gmail.com       evan       DAS    Male    evan DAS\n",
       "1  johnwachs@hotmail.com       JOHN     Wachs    Male  JOHN Wachs\n",
       "2    jasonli@outlook.com      jason        Li  Female    jason Li"
      ]
     },
     "execution_count": 375,
     "metadata": {},
     "output_type": "execute_result"
    }
   ],
   "source": [
    "df_people['full_name'] = df_people['first_name'] + ' ' + df_people['last_name']\n",
    "df_people"
   ]
  },
  {
   "cell_type": "markdown",
   "id": "8a336ebb",
   "metadata": {},
   "source": [
    "Drop/Delete columns"
   ]
  },
  {
   "cell_type": "code",
   "execution_count": 376,
   "id": "d654e40b",
   "metadata": {},
   "outputs": [
    {
     "data": {
      "text/html": [
       "<div>\n",
       "<style scoped>\n",
       "    .dataframe tbody tr th:only-of-type {\n",
       "        vertical-align: middle;\n",
       "    }\n",
       "\n",
       "    .dataframe tbody tr th {\n",
       "        vertical-align: top;\n",
       "    }\n",
       "\n",
       "    .dataframe thead th {\n",
       "        text-align: right;\n",
       "    }\n",
       "</style>\n",
       "<table border=\"1\" class=\"dataframe\">\n",
       "  <thead>\n",
       "    <tr style=\"text-align: right;\">\n",
       "      <th></th>\n",
       "      <th>email</th>\n",
       "      <th>GENDER</th>\n",
       "      <th>full_name</th>\n",
       "    </tr>\n",
       "  </thead>\n",
       "  <tbody>\n",
       "    <tr>\n",
       "      <th>0</th>\n",
       "      <td>evandas@gmail.com</td>\n",
       "      <td>Male</td>\n",
       "      <td>evan DAS</td>\n",
       "    </tr>\n",
       "    <tr>\n",
       "      <th>1</th>\n",
       "      <td>johnwachs@hotmail.com</td>\n",
       "      <td>Male</td>\n",
       "      <td>JOHN Wachs</td>\n",
       "    </tr>\n",
       "    <tr>\n",
       "      <th>2</th>\n",
       "      <td>jasonli@outlook.com</td>\n",
       "      <td>Female</td>\n",
       "      <td>jason Li</td>\n",
       "    </tr>\n",
       "  </tbody>\n",
       "</table>\n",
       "</div>"
      ],
      "text/plain": [
       "                   email  GENDER   full_name\n",
       "0      evandas@gmail.com    Male    evan DAS\n",
       "1  johnwachs@hotmail.com    Male  JOHN Wachs\n",
       "2    jasonli@outlook.com  Female    jason Li"
      ]
     },
     "execution_count": 376,
     "metadata": {},
     "output_type": "execute_result"
    }
   ],
   "source": [
    "df_test = df_people.drop(columns = ['first_name', 'last_name'])\n",
    "# does not delete on the original one unless you set inplace = True\n",
    "df_test"
   ]
  },
  {
   "cell_type": "markdown",
   "id": "15815562",
   "metadata": {},
   "source": [
    "Also, you can split the column into multiple columns by using `expand = True` function"
   ]
  },
  {
   "cell_type": "code",
   "execution_count": 377,
   "id": "8c340f36",
   "metadata": {},
   "outputs": [
    {
     "data": {
      "text/html": [
       "<div>\n",
       "<style scoped>\n",
       "    .dataframe tbody tr th:only-of-type {\n",
       "        vertical-align: middle;\n",
       "    }\n",
       "\n",
       "    .dataframe tbody tr th {\n",
       "        vertical-align: top;\n",
       "    }\n",
       "\n",
       "    .dataframe thead th {\n",
       "        text-align: right;\n",
       "    }\n",
       "</style>\n",
       "<table border=\"1\" class=\"dataframe\">\n",
       "  <thead>\n",
       "    <tr style=\"text-align: right;\">\n",
       "      <th></th>\n",
       "      <th>email</th>\n",
       "      <th>GENDER</th>\n",
       "      <th>full_name</th>\n",
       "      <th>first_name</th>\n",
       "      <th>last_name</th>\n",
       "    </tr>\n",
       "  </thead>\n",
       "  <tbody>\n",
       "    <tr>\n",
       "      <th>0</th>\n",
       "      <td>evandas@gmail.com</td>\n",
       "      <td>Male</td>\n",
       "      <td>evan DAS</td>\n",
       "      <td>evan</td>\n",
       "      <td>DAS</td>\n",
       "    </tr>\n",
       "    <tr>\n",
       "      <th>1</th>\n",
       "      <td>johnwachs@hotmail.com</td>\n",
       "      <td>Male</td>\n",
       "      <td>JOHN Wachs</td>\n",
       "      <td>JOHN</td>\n",
       "      <td>Wachs</td>\n",
       "    </tr>\n",
       "    <tr>\n",
       "      <th>2</th>\n",
       "      <td>jasonli@outlook.com</td>\n",
       "      <td>Female</td>\n",
       "      <td>jason Li</td>\n",
       "      <td>jason</td>\n",
       "      <td>Li</td>\n",
       "    </tr>\n",
       "  </tbody>\n",
       "</table>\n",
       "</div>"
      ],
      "text/plain": [
       "                   email  GENDER   full_name first_name last_name\n",
       "0      evandas@gmail.com    Male    evan DAS       evan       DAS\n",
       "1  johnwachs@hotmail.com    Male  JOHN Wachs       JOHN     Wachs\n",
       "2    jasonli@outlook.com  Female    jason Li      jason        Li"
      ]
     },
     "execution_count": 377,
     "metadata": {},
     "output_type": "execute_result"
    }
   ],
   "source": [
    "df_test[['first_name', 'last_name']] = df_test['full_name'].str.split(' ', expand = True)\n",
    "df_test"
   ]
  },
  {
   "cell_type": "markdown",
   "id": "085e15a9",
   "metadata": {},
   "source": [
    "concat a new row by \n",
    "\n",
    "1. creating the new dataframe\n",
    "2. using `concat` function\n",
    "3. `ignore_index = True` will rearrange the index "
   ]
  },
  {
   "cell_type": "code",
   "execution_count": 378,
   "id": "b247b560",
   "metadata": {},
   "outputs": [
    {
     "data": {
      "text/html": [
       "<div>\n",
       "<style scoped>\n",
       "    .dataframe tbody tr th:only-of-type {\n",
       "        vertical-align: middle;\n",
       "    }\n",
       "\n",
       "    .dataframe tbody tr th {\n",
       "        vertical-align: top;\n",
       "    }\n",
       "\n",
       "    .dataframe thead th {\n",
       "        text-align: right;\n",
       "    }\n",
       "</style>\n",
       "<table border=\"1\" class=\"dataframe\">\n",
       "  <thead>\n",
       "    <tr style=\"text-align: right;\">\n",
       "      <th></th>\n",
       "      <th>email</th>\n",
       "      <th>GENDER</th>\n",
       "      <th>full_name</th>\n",
       "      <th>first_name</th>\n",
       "      <th>last_name</th>\n",
       "    </tr>\n",
       "  </thead>\n",
       "  <tbody>\n",
       "    <tr>\n",
       "      <th>0</th>\n",
       "      <td>evandas@gmail.com</td>\n",
       "      <td>Male</td>\n",
       "      <td>evan DAS</td>\n",
       "      <td>evan</td>\n",
       "      <td>DAS</td>\n",
       "    </tr>\n",
       "    <tr>\n",
       "      <th>1</th>\n",
       "      <td>johnwachs@hotmail.com</td>\n",
       "      <td>Male</td>\n",
       "      <td>JOHN Wachs</td>\n",
       "      <td>JOHN</td>\n",
       "      <td>Wachs</td>\n",
       "    </tr>\n",
       "    <tr>\n",
       "      <th>2</th>\n",
       "      <td>jasonli@outlook.com</td>\n",
       "      <td>Female</td>\n",
       "      <td>jason Li</td>\n",
       "      <td>jason</td>\n",
       "      <td>Li</td>\n",
       "    </tr>\n",
       "    <tr>\n",
       "      <th>3</th>\n",
       "      <td>hachimi@icloud.com</td>\n",
       "      <td>Binary</td>\n",
       "      <td>Hachimi</td>\n",
       "      <td>NaN</td>\n",
       "      <td>Nameruto</td>\n",
       "    </tr>\n",
       "  </tbody>\n",
       "</table>\n",
       "</div>"
      ],
      "text/plain": [
       "                   email  GENDER   full_name first_name last_name\n",
       "0      evandas@gmail.com    Male    evan DAS       evan       DAS\n",
       "1  johnwachs@hotmail.com    Male  JOHN Wachs       JOHN     Wachs\n",
       "2    jasonli@outlook.com  Female    jason Li      jason        Li\n",
       "3     hachimi@icloud.com  Binary     Hachimi        NaN  Nameruto"
      ]
     },
     "execution_count": 378,
     "metadata": {},
     "output_type": "execute_result"
    }
   ],
   "source": [
    "new_row = pd.DataFrame({\n",
    "    'email': ['hachimi@icloud.com'],\n",
    "    'GENDER': ['Binary'], \n",
    "    'full_name': ['Hachimi'], \n",
    "    'last_name': ['Nameruto']\n",
    "})\n",
    "df_test = pd.concat([df_test, new_row], ignore_index = True)\n",
    "df_test"
   ]
  },
  {
   "cell_type": "markdown",
   "id": "88655ae0",
   "metadata": {},
   "source": [
    "Drop/ Delete Row by index"
   ]
  },
  {
   "cell_type": "code",
   "execution_count": 379,
   "id": "5ab82e33",
   "metadata": {},
   "outputs": [
    {
     "data": {
      "text/html": [
       "<div>\n",
       "<style scoped>\n",
       "    .dataframe tbody tr th:only-of-type {\n",
       "        vertical-align: middle;\n",
       "    }\n",
       "\n",
       "    .dataframe tbody tr th {\n",
       "        vertical-align: top;\n",
       "    }\n",
       "\n",
       "    .dataframe thead th {\n",
       "        text-align: right;\n",
       "    }\n",
       "</style>\n",
       "<table border=\"1\" class=\"dataframe\">\n",
       "  <thead>\n",
       "    <tr style=\"text-align: right;\">\n",
       "      <th></th>\n",
       "      <th>email</th>\n",
       "      <th>GENDER</th>\n",
       "      <th>full_name</th>\n",
       "      <th>first_name</th>\n",
       "      <th>last_name</th>\n",
       "    </tr>\n",
       "  </thead>\n",
       "  <tbody>\n",
       "    <tr>\n",
       "      <th>1</th>\n",
       "      <td>johnwachs@hotmail.com</td>\n",
       "      <td>Male</td>\n",
       "      <td>JOHN Wachs</td>\n",
       "      <td>JOHN</td>\n",
       "      <td>Wachs</td>\n",
       "    </tr>\n",
       "    <tr>\n",
       "      <th>2</th>\n",
       "      <td>jasonli@outlook.com</td>\n",
       "      <td>Female</td>\n",
       "      <td>jason Li</td>\n",
       "      <td>jason</td>\n",
       "      <td>Li</td>\n",
       "    </tr>\n",
       "    <tr>\n",
       "      <th>3</th>\n",
       "      <td>hachimi@icloud.com</td>\n",
       "      <td>Binary</td>\n",
       "      <td>Hachimi</td>\n",
       "      <td>NaN</td>\n",
       "      <td>Nameruto</td>\n",
       "    </tr>\n",
       "  </tbody>\n",
       "</table>\n",
       "</div>"
      ],
      "text/plain": [
       "                   email  GENDER   full_name first_name last_name\n",
       "1  johnwachs@hotmail.com    Male  JOHN Wachs       JOHN     Wachs\n",
       "2    jasonli@outlook.com  Female    jason Li      jason        Li\n",
       "3     hachimi@icloud.com  Binary     Hachimi        NaN  Nameruto"
      ]
     },
     "execution_count": 379,
     "metadata": {},
     "output_type": "execute_result"
    }
   ],
   "source": [
    "df_test.drop(index = 0)"
   ]
  },
  {
   "cell_type": "markdown",
   "id": "bf252c7b",
   "metadata": {},
   "source": [
    "First set up a filter, then using `.index` to locate the row"
   ]
  },
  {
   "cell_type": "code",
   "execution_count": 382,
   "id": "d9863633",
   "metadata": {},
   "outputs": [
    {
     "data": {
      "text/html": [
       "<div>\n",
       "<style scoped>\n",
       "    .dataframe tbody tr th:only-of-type {\n",
       "        vertical-align: middle;\n",
       "    }\n",
       "\n",
       "    .dataframe tbody tr th {\n",
       "        vertical-align: top;\n",
       "    }\n",
       "\n",
       "    .dataframe thead th {\n",
       "        text-align: right;\n",
       "    }\n",
       "</style>\n",
       "<table border=\"1\" class=\"dataframe\">\n",
       "  <thead>\n",
       "    <tr style=\"text-align: right;\">\n",
       "      <th></th>\n",
       "      <th>email</th>\n",
       "      <th>GENDER</th>\n",
       "      <th>full_name</th>\n",
       "      <th>first_name</th>\n",
       "      <th>last_name</th>\n",
       "    </tr>\n",
       "  </thead>\n",
       "  <tbody>\n",
       "    <tr>\n",
       "      <th>0</th>\n",
       "      <td>evandas@gmail.com</td>\n",
       "      <td>Male</td>\n",
       "      <td>evan DAS</td>\n",
       "      <td>evan</td>\n",
       "      <td>DAS</td>\n",
       "    </tr>\n",
       "    <tr>\n",
       "      <th>2</th>\n",
       "      <td>jasonli@outlook.com</td>\n",
       "      <td>Female</td>\n",
       "      <td>jason Li</td>\n",
       "      <td>jason</td>\n",
       "      <td>Li</td>\n",
       "    </tr>\n",
       "    <tr>\n",
       "      <th>3</th>\n",
       "      <td>hachimi@icloud.com</td>\n",
       "      <td>Binary</td>\n",
       "      <td>Hachimi</td>\n",
       "      <td>NaN</td>\n",
       "      <td>Nameruto</td>\n",
       "    </tr>\n",
       "  </tbody>\n",
       "</table>\n",
       "</div>"
      ],
      "text/plain": [
       "                 email  GENDER full_name first_name last_name\n",
       "0    evandas@gmail.com    Male  evan DAS       evan       DAS\n",
       "2  jasonli@outlook.com  Female  jason Li      jason        Li\n",
       "3   hachimi@icloud.com  Binary   Hachimi        NaN  Nameruto"
      ]
     },
     "execution_count": 382,
     "metadata": {},
     "output_type": "execute_result"
    }
   ],
   "source": [
    "filt = df_test['full_name'] == 'JOHN Wachs'\n",
    "df_test.drop(index = df_test[filt].index)"
   ]
  }
 ],
 "metadata": {
  "kernelspec": {
   "display_name": ".venv",
   "language": "python",
   "name": "python3"
  },
  "language_info": {
   "codemirror_mode": {
    "name": "ipython",
    "version": 3
   },
   "file_extension": ".py",
   "mimetype": "text/x-python",
   "name": "python",
   "nbconvert_exporter": "python",
   "pygments_lexer": "ipython3",
   "version": "3.13.5"
  }
 },
 "nbformat": 4,
 "nbformat_minor": 5
}
