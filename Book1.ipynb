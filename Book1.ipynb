{
 "cells": [
  {
   "cell_type": "markdown",
   "id": "cd58ce8c",
   "metadata": {},
   "source": [
    "### Book1 uses small dataset"
   ]
  },
  {
   "cell_type": "code",
   "execution_count": 1275,
   "id": "004b0897",
   "metadata": {},
   "outputs": [],
   "source": [
    "import pandas as pd"
   ]
  },
  {
   "cell_type": "code",
   "execution_count": 1276,
   "id": "d3ce7f49",
   "metadata": {},
   "outputs": [
    {
     "data": {
      "text/html": [
       "<div>\n",
       "<style scoped>\n",
       "    .dataframe tbody tr th:only-of-type {\n",
       "        vertical-align: middle;\n",
       "    }\n",
       "\n",
       "    .dataframe tbody tr th {\n",
       "        vertical-align: top;\n",
       "    }\n",
       "\n",
       "    .dataframe thead th {\n",
       "        text-align: right;\n",
       "    }\n",
       "</style>\n",
       "<table border=\"1\" class=\"dataframe\">\n",
       "  <thead>\n",
       "    <tr style=\"text-align: right;\">\n",
       "      <th></th>\n",
       "      <th>first</th>\n",
       "      <th>last</th>\n",
       "      <th>email</th>\n",
       "      <th>gender</th>\n",
       "    </tr>\n",
       "  </thead>\n",
       "  <tbody>\n",
       "    <tr>\n",
       "      <th>0</th>\n",
       "      <td>evan</td>\n",
       "      <td>Das</td>\n",
       "      <td>evandas@gmail.com</td>\n",
       "      <td>Male</td>\n",
       "    </tr>\n",
       "    <tr>\n",
       "      <th>1</th>\n",
       "      <td>john</td>\n",
       "      <td>Wachs</td>\n",
       "      <td>johnwachs@hotmail.com</td>\n",
       "      <td>Male</td>\n",
       "    </tr>\n",
       "    <tr>\n",
       "      <th>2</th>\n",
       "      <td>jason</td>\n",
       "      <td>Li</td>\n",
       "      <td>jasonli@outlook.com</td>\n",
       "      <td>Female</td>\n",
       "    </tr>\n",
       "  </tbody>\n",
       "</table>\n",
       "</div>"
      ],
      "text/plain": [
       "   first   last                  email  gender\n",
       "0   evan    Das      evandas@gmail.com    Male\n",
       "1   john  Wachs  johnwachs@hotmail.com    Male\n",
       "2  jason     Li    jasonli@outlook.com  Female"
      ]
     },
     "execution_count": 1276,
     "metadata": {},
     "output_type": "execute_result"
    }
   ],
   "source": [
    "people = {\n",
    "    'first': ['evan', 'john', 'jason'], \n",
    "    'last': ['Das', 'Wachs', 'Li'], \n",
    "    'email': ['evandas@gmail.com', 'johnwachs@hotmail.com', 'jasonli@outlook.com'], \n",
    "    'gender': ['Male', 'Male', 'Female']\n",
    "}\n",
    "df_people = pd.DataFrame(people)\n",
    "df_people"
   ]
  },
  {
   "cell_type": "code",
   "execution_count": 1277,
   "id": "cc9aba9b",
   "metadata": {},
   "outputs": [
    {
     "data": {
      "text/plain": [
       "0        evandas@gmail.com\n",
       "1    johnwachs@hotmail.com\n",
       "2      jasonli@outlook.com\n",
       "Name: email, dtype: object"
      ]
     },
     "execution_count": 1277,
     "metadata": {},
     "output_type": "execute_result"
    }
   ],
   "source": [
    "df_people['email']"
   ]
  },
  {
   "cell_type": "code",
   "execution_count": 1278,
   "id": "9f0a73d4",
   "metadata": {},
   "outputs": [
    {
     "data": {
      "text/plain": [
       "pandas.core.series.Series"
      ]
     },
     "execution_count": 1278,
     "metadata": {},
     "output_type": "execute_result"
    }
   ],
   "source": [
    "# generate a series object\n",
    "type(df_people['email'])"
   ]
  },
  {
   "cell_type": "code",
   "execution_count": 1279,
   "id": "2534d381",
   "metadata": {},
   "outputs": [
    {
     "data": {
      "text/html": [
       "<div>\n",
       "<style scoped>\n",
       "    .dataframe tbody tr th:only-of-type {\n",
       "        vertical-align: middle;\n",
       "    }\n",
       "\n",
       "    .dataframe tbody tr th {\n",
       "        vertical-align: top;\n",
       "    }\n",
       "\n",
       "    .dataframe thead th {\n",
       "        text-align: right;\n",
       "    }\n",
       "</style>\n",
       "<table border=\"1\" class=\"dataframe\">\n",
       "  <thead>\n",
       "    <tr style=\"text-align: right;\">\n",
       "      <th></th>\n",
       "      <th>last</th>\n",
       "      <th>email</th>\n",
       "    </tr>\n",
       "  </thead>\n",
       "  <tbody>\n",
       "    <tr>\n",
       "      <th>0</th>\n",
       "      <td>Das</td>\n",
       "      <td>evandas@gmail.com</td>\n",
       "    </tr>\n",
       "    <tr>\n",
       "      <th>1</th>\n",
       "      <td>Wachs</td>\n",
       "      <td>johnwachs@hotmail.com</td>\n",
       "    </tr>\n",
       "    <tr>\n",
       "      <th>2</th>\n",
       "      <td>Li</td>\n",
       "      <td>jasonli@outlook.com</td>\n",
       "    </tr>\n",
       "  </tbody>\n",
       "</table>\n",
       "</div>"
      ],
      "text/plain": [
       "    last                  email\n",
       "0    Das      evandas@gmail.com\n",
       "1  Wachs  johnwachs@hotmail.com\n",
       "2     Li    jasonli@outlook.com"
      ]
     },
     "execution_count": 1279,
     "metadata": {},
     "output_type": "execute_result"
    }
   ],
   "source": [
    "df_people[['last', 'email']]\n",
    "# pass a list inside the dataframe"
   ]
  },
  {
   "cell_type": "code",
   "execution_count": 1280,
   "id": "466f3eb5",
   "metadata": {},
   "outputs": [
    {
     "data": {
      "text/plain": [
       "Index(['first', 'last', 'email', 'gender'], dtype='object')"
      ]
     },
     "execution_count": 1280,
     "metadata": {},
     "output_type": "execute_result"
    }
   ],
   "source": [
    "df_people.columns"
   ]
  },
  {
   "cell_type": "code",
   "execution_count": 1281,
   "id": "66545dbd",
   "metadata": {},
   "outputs": [
    {
     "data": {
      "text/html": [
       "<div>\n",
       "<style scoped>\n",
       "    .dataframe tbody tr th:only-of-type {\n",
       "        vertical-align: middle;\n",
       "    }\n",
       "\n",
       "    .dataframe tbody tr th {\n",
       "        vertical-align: top;\n",
       "    }\n",
       "\n",
       "    .dataframe thead th {\n",
       "        text-align: right;\n",
       "    }\n",
       "</style>\n",
       "<table border=\"1\" class=\"dataframe\">\n",
       "  <thead>\n",
       "    <tr style=\"text-align: right;\">\n",
       "      <th></th>\n",
       "      <th>last</th>\n",
       "      <th>email</th>\n",
       "    </tr>\n",
       "  </thead>\n",
       "  <tbody>\n",
       "    <tr>\n",
       "      <th>0</th>\n",
       "      <td>Das</td>\n",
       "      <td>evandas@gmail.com</td>\n",
       "    </tr>\n",
       "    <tr>\n",
       "      <th>1</th>\n",
       "      <td>Wachs</td>\n",
       "      <td>johnwachs@hotmail.com</td>\n",
       "    </tr>\n",
       "  </tbody>\n",
       "</table>\n",
       "</div>"
      ],
      "text/plain": [
       "    last                  email\n",
       "0    Das      evandas@gmail.com\n",
       "1  Wachs  johnwachs@hotmail.com"
      ]
     },
     "execution_count": 1281,
     "metadata": {},
     "output_type": "execute_result"
    }
   ],
   "source": [
    "df_people.iloc[[0, 1], [1, 2]]\n",
    "# iloc using integer index or list[int, int, ...] to locate specific row(s)\n",
    "# or you can choose specific index column\n",
    "# inclusive\n",
    "# slice: row[0, 1] and return their col[1, 2]"
   ]
  },
  {
   "cell_type": "code",
   "execution_count": 1282,
   "id": "10fb7a28",
   "metadata": {},
   "outputs": [
    {
     "data": {
      "text/plain": [
       "0        evandas@gmail.com\n",
       "1    johnwachs@hotmail.com\n",
       "Name: email, dtype: object"
      ]
     },
     "execution_count": 1282,
     "metadata": {},
     "output_type": "execute_result"
    }
   ],
   "source": [
    "df_people.loc[[0, 1], 'email']"
   ]
  },
  {
   "cell_type": "code",
   "execution_count": 1283,
   "id": "30a52a3c",
   "metadata": {},
   "outputs": [],
   "source": [
    "df_people.set_index('email', inplace = True)\n",
    "# set a column as index\n",
    "# original wont be inplace changed by default\n"
   ]
  },
  {
   "cell_type": "code",
   "execution_count": 1284,
   "id": "90ca64e9",
   "metadata": {},
   "outputs": [
    {
     "data": {
      "text/plain": [
       "'Das'"
      ]
     },
     "execution_count": 1284,
     "metadata": {},
     "output_type": "execute_result"
    }
   ],
   "source": [
    "df_people.loc['evandas@gmail.com', 'last']\n",
    "# then you can use loc to access the `index`"
   ]
  },
  {
   "cell_type": "markdown",
   "id": "7d447452",
   "metadata": {},
   "source": [
    "You can rename the dataframe simply by input another list"
   ]
  },
  {
   "cell_type": "code",
   "execution_count": 1285,
   "id": "0e06c366",
   "metadata": {},
   "outputs": [
    {
     "data": {
      "text/html": [
       "<div>\n",
       "<style scoped>\n",
       "    .dataframe tbody tr th:only-of-type {\n",
       "        vertical-align: middle;\n",
       "    }\n",
       "\n",
       "    .dataframe tbody tr th {\n",
       "        vertical-align: top;\n",
       "    }\n",
       "\n",
       "    .dataframe thead th {\n",
       "        text-align: right;\n",
       "    }\n",
       "</style>\n",
       "<table border=\"1\" class=\"dataframe\">\n",
       "  <thead>\n",
       "    <tr style=\"text-align: right;\">\n",
       "      <th></th>\n",
       "      <th>first_name</th>\n",
       "      <th>last_name</th>\n",
       "      <th>Gender</th>\n",
       "    </tr>\n",
       "    <tr>\n",
       "      <th>email</th>\n",
       "      <th></th>\n",
       "      <th></th>\n",
       "      <th></th>\n",
       "    </tr>\n",
       "  </thead>\n",
       "  <tbody>\n",
       "    <tr>\n",
       "      <th>evandas@gmail.com</th>\n",
       "      <td>evan</td>\n",
       "      <td>Das</td>\n",
       "      <td>Male</td>\n",
       "    </tr>\n",
       "    <tr>\n",
       "      <th>johnwachs@hotmail.com</th>\n",
       "      <td>john</td>\n",
       "      <td>Wachs</td>\n",
       "      <td>Male</td>\n",
       "    </tr>\n",
       "    <tr>\n",
       "      <th>jasonli@outlook.com</th>\n",
       "      <td>jason</td>\n",
       "      <td>Li</td>\n",
       "      <td>Female</td>\n",
       "    </tr>\n",
       "  </tbody>\n",
       "</table>\n",
       "</div>"
      ],
      "text/plain": [
       "                      first_name last_name  Gender\n",
       "email                                             \n",
       "evandas@gmail.com           evan       Das    Male\n",
       "johnwachs@hotmail.com       john     Wachs    Male\n",
       "jasonli@outlook.com        jason        Li  Female"
      ]
     },
     "execution_count": 1285,
     "metadata": {},
     "output_type": "execute_result"
    }
   ],
   "source": [
    "df_people.columns\n",
    "df_people.columns = ['first_name', 'last_name', 'Gender']\n",
    "df_people"
   ]
  },
  {
   "cell_type": "markdown",
   "id": "459a8ad5",
   "metadata": {},
   "source": [
    "You can also use list comprehension to rename all the column names"
   ]
  },
  {
   "cell_type": "code",
   "execution_count": 1286,
   "id": "98ede827",
   "metadata": {},
   "outputs": [
    {
     "data": {
      "text/html": [
       "<div>\n",
       "<style scoped>\n",
       "    .dataframe tbody tr th:only-of-type {\n",
       "        vertical-align: middle;\n",
       "    }\n",
       "\n",
       "    .dataframe tbody tr th {\n",
       "        vertical-align: top;\n",
       "    }\n",
       "\n",
       "    .dataframe thead th {\n",
       "        text-align: right;\n",
       "    }\n",
       "</style>\n",
       "<table border=\"1\" class=\"dataframe\">\n",
       "  <thead>\n",
       "    <tr style=\"text-align: right;\">\n",
       "      <th></th>\n",
       "      <th>FIRST_NAME</th>\n",
       "      <th>LAST_NAME</th>\n",
       "      <th>GENDER</th>\n",
       "    </tr>\n",
       "    <tr>\n",
       "      <th>email</th>\n",
       "      <th></th>\n",
       "      <th></th>\n",
       "      <th></th>\n",
       "    </tr>\n",
       "  </thead>\n",
       "  <tbody>\n",
       "    <tr>\n",
       "      <th>evandas@gmail.com</th>\n",
       "      <td>evan</td>\n",
       "      <td>Das</td>\n",
       "      <td>Male</td>\n",
       "    </tr>\n",
       "    <tr>\n",
       "      <th>johnwachs@hotmail.com</th>\n",
       "      <td>john</td>\n",
       "      <td>Wachs</td>\n",
       "      <td>Male</td>\n",
       "    </tr>\n",
       "    <tr>\n",
       "      <th>jasonli@outlook.com</th>\n",
       "      <td>jason</td>\n",
       "      <td>Li</td>\n",
       "      <td>Female</td>\n",
       "    </tr>\n",
       "  </tbody>\n",
       "</table>\n",
       "</div>"
      ],
      "text/plain": [
       "                      FIRST_NAME LAST_NAME  GENDER\n",
       "email                                             \n",
       "evandas@gmail.com           evan       Das    Male\n",
       "johnwachs@hotmail.com       john     Wachs    Male\n",
       "jasonli@outlook.com        jason        Li  Female"
      ]
     },
     "execution_count": 1286,
     "metadata": {},
     "output_type": "execute_result"
    }
   ],
   "source": [
    "df_people.columns = [x.upper() for x in df_people.columns]\n",
    "df_people"
   ]
  },
  {
   "cell_type": "markdown",
   "id": "88e23d96",
   "metadata": {},
   "source": [
    "`str.replace` function\n"
   ]
  },
  {
   "cell_type": "code",
   "execution_count": 1287,
   "id": "9482e669",
   "metadata": {},
   "outputs": [
    {
     "data": {
      "text/html": [
       "<div>\n",
       "<style scoped>\n",
       "    .dataframe tbody tr th:only-of-type {\n",
       "        vertical-align: middle;\n",
       "    }\n",
       "\n",
       "    .dataframe tbody tr th {\n",
       "        vertical-align: top;\n",
       "    }\n",
       "\n",
       "    .dataframe thead th {\n",
       "        text-align: right;\n",
       "    }\n",
       "</style>\n",
       "<table border=\"1\" class=\"dataframe\">\n",
       "  <thead>\n",
       "    <tr style=\"text-align: right;\">\n",
       "      <th></th>\n",
       "      <th>FIRST NAME</th>\n",
       "      <th>LAST NAME</th>\n",
       "      <th>GENDER</th>\n",
       "    </tr>\n",
       "    <tr>\n",
       "      <th>email</th>\n",
       "      <th></th>\n",
       "      <th></th>\n",
       "      <th></th>\n",
       "    </tr>\n",
       "  </thead>\n",
       "  <tbody>\n",
       "    <tr>\n",
       "      <th>evandas@gmail.com</th>\n",
       "      <td>evan</td>\n",
       "      <td>Das</td>\n",
       "      <td>Male</td>\n",
       "    </tr>\n",
       "    <tr>\n",
       "      <th>johnwachs@hotmail.com</th>\n",
       "      <td>john</td>\n",
       "      <td>Wachs</td>\n",
       "      <td>Male</td>\n",
       "    </tr>\n",
       "    <tr>\n",
       "      <th>jasonli@outlook.com</th>\n",
       "      <td>jason</td>\n",
       "      <td>Li</td>\n",
       "      <td>Female</td>\n",
       "    </tr>\n",
       "  </tbody>\n",
       "</table>\n",
       "</div>"
      ],
      "text/plain": [
       "                      FIRST NAME LAST NAME  GENDER\n",
       "email                                             \n",
       "evandas@gmail.com           evan       Das    Male\n",
       "johnwachs@hotmail.com       john     Wachs    Male\n",
       "jasonli@outlook.com        jason        Li  Female"
      ]
     },
     "execution_count": 1287,
     "metadata": {},
     "output_type": "execute_result"
    }
   ],
   "source": [
    "df_people.columns = df_people.columns.str.replace('_', ' ')\n",
    "df_people"
   ]
  },
  {
   "cell_type": "markdown",
   "id": "38b58b72",
   "metadata": {},
   "source": [
    "use `df.rename(columns = {})` function to rename, `inplace = False` by default"
   ]
  },
  {
   "cell_type": "code",
   "execution_count": 1288,
   "id": "f36f7f4f",
   "metadata": {},
   "outputs": [],
   "source": [
    "df_people.rename(columns = {\n",
    "    'FIRST NAME': 'first_name',\n",
    "    'LAST NAME': 'last_name'\n",
    "}, inplace = True)"
   ]
  },
  {
   "cell_type": "markdown",
   "id": "110327d6",
   "metadata": {},
   "source": [
    "Notice `iloc` only receive Integers, it asks for index, `loc` can take both row labels (index) and column labels"
   ]
  },
  {
   "cell_type": "code",
   "execution_count": 1289,
   "id": "c547550c",
   "metadata": {},
   "outputs": [
    {
     "data": {
      "text/html": [
       "<div>\n",
       "<style scoped>\n",
       "    .dataframe tbody tr th:only-of-type {\n",
       "        vertical-align: middle;\n",
       "    }\n",
       "\n",
       "    .dataframe tbody tr th {\n",
       "        vertical-align: top;\n",
       "    }\n",
       "\n",
       "    .dataframe thead th {\n",
       "        text-align: right;\n",
       "    }\n",
       "</style>\n",
       "<table border=\"1\" class=\"dataframe\">\n",
       "  <thead>\n",
       "    <tr style=\"text-align: right;\">\n",
       "      <th></th>\n",
       "      <th>first_name</th>\n",
       "      <th>last_name</th>\n",
       "      <th>GENDER</th>\n",
       "    </tr>\n",
       "    <tr>\n",
       "      <th>email</th>\n",
       "      <th></th>\n",
       "      <th></th>\n",
       "      <th></th>\n",
       "    </tr>\n",
       "  </thead>\n",
       "  <tbody>\n",
       "    <tr>\n",
       "      <th>evandas@gmail.com</th>\n",
       "      <td>EVAN</td>\n",
       "      <td>DAS</td>\n",
       "      <td>Male</td>\n",
       "    </tr>\n",
       "    <tr>\n",
       "      <th>johnwachs@hotmail.com</th>\n",
       "      <td>john</td>\n",
       "      <td>Wachs</td>\n",
       "      <td>Male</td>\n",
       "    </tr>\n",
       "    <tr>\n",
       "      <th>jasonli@outlook.com</th>\n",
       "      <td>jason</td>\n",
       "      <td>Li</td>\n",
       "      <td>Female</td>\n",
       "    </tr>\n",
       "  </tbody>\n",
       "</table>\n",
       "</div>"
      ],
      "text/plain": [
       "                      first_name last_name  GENDER\n",
       "email                                             \n",
       "evandas@gmail.com           EVAN       DAS    Male\n",
       "johnwachs@hotmail.com       john     Wachs    Male\n",
       "jasonli@outlook.com        jason        Li  Female"
      ]
     },
     "execution_count": 1289,
     "metadata": {},
     "output_type": "execute_result"
    }
   ],
   "source": [
    "df_people.loc['evandas@gmail.com', ['first_name', 'last_name']] = ['EVAN', 'DAS']\n",
    "df_people"
   ]
  },
  {
   "cell_type": "markdown",
   "id": "a9c2a4af",
   "metadata": {},
   "source": [
    "change one value"
   ]
  },
  {
   "cell_type": "code",
   "execution_count": 1290,
   "id": "9d84fbba",
   "metadata": {},
   "outputs": [
    {
     "data": {
      "text/html": [
       "<div>\n",
       "<style scoped>\n",
       "    .dataframe tbody tr th:only-of-type {\n",
       "        vertical-align: middle;\n",
       "    }\n",
       "\n",
       "    .dataframe tbody tr th {\n",
       "        vertical-align: top;\n",
       "    }\n",
       "\n",
       "    .dataframe thead th {\n",
       "        text-align: right;\n",
       "    }\n",
       "</style>\n",
       "<table border=\"1\" class=\"dataframe\">\n",
       "  <thead>\n",
       "    <tr style=\"text-align: right;\">\n",
       "      <th></th>\n",
       "      <th>first_name</th>\n",
       "      <th>last_name</th>\n",
       "      <th>GENDER</th>\n",
       "    </tr>\n",
       "    <tr>\n",
       "      <th>email</th>\n",
       "      <th></th>\n",
       "      <th></th>\n",
       "      <th></th>\n",
       "    </tr>\n",
       "  </thead>\n",
       "  <tbody>\n",
       "    <tr>\n",
       "      <th>evandas@gmail.com</th>\n",
       "      <td>EVAN</td>\n",
       "      <td>DAS</td>\n",
       "      <td>Male</td>\n",
       "    </tr>\n",
       "    <tr>\n",
       "      <th>johnwachs@hotmail.com</th>\n",
       "      <td>JOHN</td>\n",
       "      <td>Wachs</td>\n",
       "      <td>Male</td>\n",
       "    </tr>\n",
       "    <tr>\n",
       "      <th>jasonli@outlook.com</th>\n",
       "      <td>jason</td>\n",
       "      <td>Li</td>\n",
       "      <td>Female</td>\n",
       "    </tr>\n",
       "  </tbody>\n",
       "</table>\n",
       "</div>"
      ],
      "text/plain": [
       "                      first_name last_name  GENDER\n",
       "email                                             \n",
       "evandas@gmail.com           EVAN       DAS    Male\n",
       "johnwachs@hotmail.com       JOHN     Wachs    Male\n",
       "jasonli@outlook.com        jason        Li  Female"
      ]
     },
     "execution_count": 1290,
     "metadata": {},
     "output_type": "execute_result"
    }
   ],
   "source": [
    "df_people.loc['johnwachs@hotmail.com', 'first_name'] = 'JOHN'\n",
    "df_people"
   ]
  },
  {
   "cell_type": "code",
   "execution_count": 1291,
   "id": "fbff5504",
   "metadata": {},
   "outputs": [
    {
     "data": {
      "text/html": [
       "<div>\n",
       "<style scoped>\n",
       "    .dataframe tbody tr th:only-of-type {\n",
       "        vertical-align: middle;\n",
       "    }\n",
       "\n",
       "    .dataframe tbody tr th {\n",
       "        vertical-align: top;\n",
       "    }\n",
       "\n",
       "    .dataframe thead th {\n",
       "        text-align: right;\n",
       "    }\n",
       "</style>\n",
       "<table border=\"1\" class=\"dataframe\">\n",
       "  <thead>\n",
       "    <tr style=\"text-align: right;\">\n",
       "      <th></th>\n",
       "      <th>email</th>\n",
       "      <th>first_name</th>\n",
       "      <th>last_name</th>\n",
       "      <th>GENDER</th>\n",
       "    </tr>\n",
       "  </thead>\n",
       "  <tbody>\n",
       "    <tr>\n",
       "      <th>0</th>\n",
       "      <td>evandas@gmail.com</td>\n",
       "      <td>EVAN</td>\n",
       "      <td>DAS</td>\n",
       "      <td>Male</td>\n",
       "    </tr>\n",
       "    <tr>\n",
       "      <th>1</th>\n",
       "      <td>johnwachs@hotmail.com</td>\n",
       "      <td>JOHN</td>\n",
       "      <td>Wachs</td>\n",
       "      <td>Male</td>\n",
       "    </tr>\n",
       "    <tr>\n",
       "      <th>2</th>\n",
       "      <td>jasonli@outlook.com</td>\n",
       "      <td>jason</td>\n",
       "      <td>Li</td>\n",
       "      <td>Female</td>\n",
       "    </tr>\n",
       "  </tbody>\n",
       "</table>\n",
       "</div>"
      ],
      "text/plain": [
       "                   email first_name last_name  GENDER\n",
       "0      evandas@gmail.com       EVAN       DAS    Male\n",
       "1  johnwachs@hotmail.com       JOHN     Wachs    Male\n",
       "2    jasonli@outlook.com      jason        Li  Female"
      ]
     },
     "execution_count": 1291,
     "metadata": {},
     "output_type": "execute_result"
    }
   ],
   "source": [
    "df_peoplp = df_people.reset_index(inplace = True)\n",
    "# reset index back to 0\n",
    "df_people\n"
   ]
  },
  {
   "cell_type": "code",
   "execution_count": 1292,
   "id": "057b1daf",
   "metadata": {},
   "outputs": [
    {
     "data": {
      "text/html": [
       "<div>\n",
       "<style scoped>\n",
       "    .dataframe tbody tr th:only-of-type {\n",
       "        vertical-align: middle;\n",
       "    }\n",
       "\n",
       "    .dataframe tbody tr th {\n",
       "        vertical-align: top;\n",
       "    }\n",
       "\n",
       "    .dataframe thead th {\n",
       "        text-align: right;\n",
       "    }\n",
       "</style>\n",
       "<table border=\"1\" class=\"dataframe\">\n",
       "  <thead>\n",
       "    <tr style=\"text-align: right;\">\n",
       "      <th></th>\n",
       "      <th>email</th>\n",
       "      <th>first_name</th>\n",
       "      <th>last_name</th>\n",
       "      <th>GENDER</th>\n",
       "    </tr>\n",
       "  </thead>\n",
       "  <tbody>\n",
       "    <tr>\n",
       "      <th>0</th>\n",
       "      <td>evandas@gmail.com</td>\n",
       "      <td>EVAN</td>\n",
       "      <td>DAS</td>\n",
       "      <td>Male</td>\n",
       "    </tr>\n",
       "    <tr>\n",
       "      <th>1</th>\n",
       "      <td>johnwachs@hotmail.com</td>\n",
       "      <td>JOHN</td>\n",
       "      <td>Wachs</td>\n",
       "      <td>Male</td>\n",
       "    </tr>\n",
       "    <tr>\n",
       "      <th>2</th>\n",
       "      <td>jasonli@outlook.com</td>\n",
       "      <td>jason</td>\n",
       "      <td>Li</td>\n",
       "      <td>Female</td>\n",
       "    </tr>\n",
       "  </tbody>\n",
       "</table>\n",
       "</div>"
      ],
      "text/plain": [
       "                   email first_name last_name  GENDER\n",
       "0      evandas@gmail.com       EVAN       DAS    Male\n",
       "1  johnwachs@hotmail.com       JOHN     Wachs    Male\n",
       "2    jasonli@outlook.com      jason        Li  Female"
      ]
     },
     "execution_count": 1292,
     "metadata": {},
     "output_type": "execute_result"
    }
   ],
   "source": [
    "# set all email address to upper case\n",
    "# Approach 1\n",
    "df_people['email'] = df_people['email'].str.lower()\n",
    "df_people"
   ]
  },
  {
   "cell_type": "markdown",
   "id": "91930ffa",
   "metadata": {},
   "source": [
    "__`apply` passes every columns by default__"
   ]
  },
  {
   "cell_type": "code",
   "execution_count": 1293,
   "id": "f9e21bd2",
   "metadata": {},
   "outputs": [
    {
     "data": {
      "text/plain": [
       "0        EVANDAS@GMAIL.COM\n",
       "1    JOHNWACHS@HOTMAIL.COM\n",
       "2      JASONLI@OUTLOOK.COM\n",
       "Name: email, dtype: object"
      ]
     },
     "execution_count": 1293,
     "metadata": {},
     "output_type": "execute_result"
    }
   ],
   "source": [
    "# Approach 2\n",
    "# Using apply to pass a function\n",
    "def update_email(email):\n",
    "    return email.upper()\n",
    "df_people['email'].apply(update_email)"
   ]
  },
  {
   "cell_type": "code",
   "execution_count": 1294,
   "id": "0752751b",
   "metadata": {},
   "outputs": [
    {
     "data": {
      "text/plain": [
       "0        EVANDAS@GMAIL.COM\n",
       "1    JOHNWACHS@HOTMAIL.COM\n",
       "2      JASONLI@OUTLOOK.COM\n",
       "Name: email, dtype: object"
      ]
     },
     "execution_count": 1294,
     "metadata": {},
     "output_type": "execute_result"
    }
   ],
   "source": [
    "# Approach 3, same with Approach 2\n",
    "df_people['email'].apply(lambda x: x.upper())"
   ]
  },
  {
   "cell_type": "code",
   "execution_count": 1295,
   "id": "d44f324a",
   "metadata": {},
   "outputs": [
    {
     "data": {
      "text/html": [
       "<div>\n",
       "<style scoped>\n",
       "    .dataframe tbody tr th:only-of-type {\n",
       "        vertical-align: middle;\n",
       "    }\n",
       "\n",
       "    .dataframe tbody tr th {\n",
       "        vertical-align: top;\n",
       "    }\n",
       "\n",
       "    .dataframe thead th {\n",
       "        text-align: right;\n",
       "    }\n",
       "</style>\n",
       "<table border=\"1\" class=\"dataframe\">\n",
       "  <thead>\n",
       "    <tr style=\"text-align: right;\">\n",
       "      <th></th>\n",
       "      <th>email</th>\n",
       "      <th>first_name</th>\n",
       "      <th>last_name</th>\n",
       "      <th>GENDER</th>\n",
       "    </tr>\n",
       "  </thead>\n",
       "  <tbody>\n",
       "    <tr>\n",
       "      <th>0</th>\n",
       "      <td>evandas@gmail.com</td>\n",
       "      <td>EVAN</td>\n",
       "      <td>DAS</td>\n",
       "      <td>Male</td>\n",
       "    </tr>\n",
       "    <tr>\n",
       "      <th>1</th>\n",
       "      <td>johnwachs@hotmail.com</td>\n",
       "      <td>JOHN</td>\n",
       "      <td>Wachs</td>\n",
       "      <td>Male</td>\n",
       "    </tr>\n",
       "    <tr>\n",
       "      <th>2</th>\n",
       "      <td>jasonli@outlook.com</td>\n",
       "      <td>jason</td>\n",
       "      <td>Li</td>\n",
       "      <td>Female</td>\n",
       "    </tr>\n",
       "  </tbody>\n",
       "</table>\n",
       "</div>"
      ],
      "text/plain": [
       "                   email first_name last_name  GENDER\n",
       "0      evandas@gmail.com       EVAN       DAS    Male\n",
       "1  johnwachs@hotmail.com       JOHN     Wachs    Male\n",
       "2    jasonli@outlook.com      jason        Li  Female"
      ]
     },
     "execution_count": 1295,
     "metadata": {},
     "output_type": "execute_result"
    }
   ],
   "source": [
    "df_people"
   ]
  },
  {
   "cell_type": "code",
   "execution_count": 1296,
   "id": "b69cc959",
   "metadata": {},
   "outputs": [
    {
     "data": {
      "text/plain": [
       "0    4\n",
       "1    4\n",
       "2    4\n",
       "dtype: int64"
      ]
     },
     "execution_count": 1296,
     "metadata": {},
     "output_type": "execute_result"
    }
   ],
   "source": [
    "df_people.apply(len, axis = 'columns')"
   ]
  },
  {
   "cell_type": "markdown",
   "id": "278330dc",
   "metadata": {},
   "source": [
    "`axis = 'rows'` by default"
   ]
  },
  {
   "cell_type": "code",
   "execution_count": 1297,
   "id": "16851b51",
   "metadata": {},
   "outputs": [
    {
     "data": {
      "text/plain": [
       "email         3\n",
       "first_name    3\n",
       "last_name     3\n",
       "GENDER        3\n",
       "dtype: int64"
      ]
     },
     "execution_count": 1297,
     "metadata": {},
     "output_type": "execute_result"
    }
   ],
   "source": [
    "df_people.apply(len)"
   ]
  },
  {
   "cell_type": "code",
   "execution_count": 1298,
   "id": "0cce7652",
   "metadata": {},
   "outputs": [
    {
     "data": {
      "text/html": [
       "<div>\n",
       "<style scoped>\n",
       "    .dataframe tbody tr th:only-of-type {\n",
       "        vertical-align: middle;\n",
       "    }\n",
       "\n",
       "    .dataframe tbody tr th {\n",
       "        vertical-align: top;\n",
       "    }\n",
       "\n",
       "    .dataframe thead th {\n",
       "        text-align: right;\n",
       "    }\n",
       "</style>\n",
       "<table border=\"1\" class=\"dataframe\">\n",
       "  <thead>\n",
       "    <tr style=\"text-align: right;\">\n",
       "      <th></th>\n",
       "      <th>email</th>\n",
       "      <th>first_name</th>\n",
       "      <th>last_name</th>\n",
       "      <th>GENDER</th>\n",
       "    </tr>\n",
       "  </thead>\n",
       "  <tbody>\n",
       "    <tr>\n",
       "      <th>0</th>\n",
       "      <td>evandas@gmail.com</td>\n",
       "      <td>EVAN</td>\n",
       "      <td>DAS</td>\n",
       "      <td>Male</td>\n",
       "    </tr>\n",
       "    <tr>\n",
       "      <th>1</th>\n",
       "      <td>johnwachs@hotmail.com</td>\n",
       "      <td>JOHN</td>\n",
       "      <td>Wachs</td>\n",
       "      <td>Male</td>\n",
       "    </tr>\n",
       "    <tr>\n",
       "      <th>2</th>\n",
       "      <td>jasonli@outlook.com</td>\n",
       "      <td>jason</td>\n",
       "      <td>Li</td>\n",
       "      <td>Female</td>\n",
       "    </tr>\n",
       "  </tbody>\n",
       "</table>\n",
       "</div>"
      ],
      "text/plain": [
       "                   email first_name last_name  GENDER\n",
       "0      evandas@gmail.com       EVAN       DAS    Male\n",
       "1  johnwachs@hotmail.com       JOHN     Wachs    Male\n",
       "2    jasonli@outlook.com      jason        Li  Female"
      ]
     },
     "execution_count": 1298,
     "metadata": {},
     "output_type": "execute_result"
    }
   ],
   "source": [
    "df_people"
   ]
  },
  {
   "cell_type": "markdown",
   "id": "9c745663",
   "metadata": {},
   "source": [
    "`map()` similar to list comprehension, it applies sth to every value in the list\n",
    "\n",
    "`lambda x: x.map(len)` == `lambda col: [len(x) for x in col]`\n",
    "\n",
    "######## Notice `map(func)` can only applied to pandas series， therefore `map(lambda x: )` is often used"
   ]
  },
  {
   "cell_type": "code",
   "execution_count": 1299,
   "id": "bcacd106",
   "metadata": {},
   "outputs": [
    {
     "data": {
      "text/html": [
       "<div>\n",
       "<style scoped>\n",
       "    .dataframe tbody tr th:only-of-type {\n",
       "        vertical-align: middle;\n",
       "    }\n",
       "\n",
       "    .dataframe tbody tr th {\n",
       "        vertical-align: top;\n",
       "    }\n",
       "\n",
       "    .dataframe thead th {\n",
       "        text-align: right;\n",
       "    }\n",
       "</style>\n",
       "<table border=\"1\" class=\"dataframe\">\n",
       "  <thead>\n",
       "    <tr style=\"text-align: right;\">\n",
       "      <th></th>\n",
       "      <th>email</th>\n",
       "      <th>first_name</th>\n",
       "      <th>last_name</th>\n",
       "      <th>GENDER</th>\n",
       "    </tr>\n",
       "  </thead>\n",
       "  <tbody>\n",
       "    <tr>\n",
       "      <th>0</th>\n",
       "      <td>17</td>\n",
       "      <td>4</td>\n",
       "      <td>3</td>\n",
       "      <td>4</td>\n",
       "    </tr>\n",
       "    <tr>\n",
       "      <th>1</th>\n",
       "      <td>21</td>\n",
       "      <td>4</td>\n",
       "      <td>5</td>\n",
       "      <td>4</td>\n",
       "    </tr>\n",
       "    <tr>\n",
       "      <th>2</th>\n",
       "      <td>19</td>\n",
       "      <td>5</td>\n",
       "      <td>2</td>\n",
       "      <td>6</td>\n",
       "    </tr>\n",
       "  </tbody>\n",
       "</table>\n",
       "</div>"
      ],
      "text/plain": [
       "   email  first_name  last_name  GENDER\n",
       "0     17           4          3       4\n",
       "1     21           4          5       4\n",
       "2     19           5          2       6"
      ]
     },
     "execution_count": 1299,
     "metadata": {},
     "output_type": "execute_result"
    }
   ],
   "source": [
    "df_people.apply(lambda x: x.map(len)) \n",
    "df_people.apply(lambda col: [len(x) for x in col])"
   ]
  },
  {
   "cell_type": "markdown",
   "id": "473e1359",
   "metadata": {},
   "source": [
    "`replace`"
   ]
  },
  {
   "cell_type": "code",
   "execution_count": 1300,
   "id": "95787c3b",
   "metadata": {},
   "outputs": [
    {
     "data": {
      "text/html": [
       "<div>\n",
       "<style scoped>\n",
       "    .dataframe tbody tr th:only-of-type {\n",
       "        vertical-align: middle;\n",
       "    }\n",
       "\n",
       "    .dataframe tbody tr th {\n",
       "        vertical-align: top;\n",
       "    }\n",
       "\n",
       "    .dataframe thead th {\n",
       "        text-align: right;\n",
       "    }\n",
       "</style>\n",
       "<table border=\"1\" class=\"dataframe\">\n",
       "  <thead>\n",
       "    <tr style=\"text-align: right;\">\n",
       "      <th></th>\n",
       "      <th>email</th>\n",
       "      <th>first_name</th>\n",
       "      <th>last_name</th>\n",
       "      <th>GENDER</th>\n",
       "    </tr>\n",
       "  </thead>\n",
       "  <tbody>\n",
       "    <tr>\n",
       "      <th>0</th>\n",
       "      <td>evandas@gmail.com</td>\n",
       "      <td>evan</td>\n",
       "      <td>DAS</td>\n",
       "      <td>Male</td>\n",
       "    </tr>\n",
       "    <tr>\n",
       "      <th>1</th>\n",
       "      <td>johnwachs@hotmail.com</td>\n",
       "      <td>JOHN</td>\n",
       "      <td>Wachs</td>\n",
       "      <td>Male</td>\n",
       "    </tr>\n",
       "    <tr>\n",
       "      <th>2</th>\n",
       "      <td>jasonli@outlook.com</td>\n",
       "      <td>jason</td>\n",
       "      <td>Li</td>\n",
       "      <td>Female</td>\n",
       "    </tr>\n",
       "  </tbody>\n",
       "</table>\n",
       "</div>"
      ],
      "text/plain": [
       "                   email first_name last_name  GENDER\n",
       "0      evandas@gmail.com       evan       DAS    Male\n",
       "1  johnwachs@hotmail.com       JOHN     Wachs    Male\n",
       "2    jasonli@outlook.com      jason        Li  Female"
      ]
     },
     "execution_count": 1300,
     "metadata": {},
     "output_type": "execute_result"
    }
   ],
   "source": [
    "df_people['first_name'] = df_people['first_name'].replace({'EVAN': 'evan'})\n",
    "df_people"
   ]
  },
  {
   "cell_type": "markdown",
   "id": "96e75364",
   "metadata": {},
   "source": [
    "Print with string format/ combining columns, can also use `apply()` function"
   ]
  },
  {
   "cell_type": "code",
   "execution_count": 1301,
   "id": "89235827",
   "metadata": {},
   "outputs": [
    {
     "data": {
      "text/plain": [
       "0      evan DAS\n",
       "1    JOHN Wachs\n",
       "2      jason Li\n",
       "dtype: object"
      ]
     },
     "execution_count": 1301,
     "metadata": {},
     "output_type": "execute_result"
    }
   ],
   "source": [
    "df_people['first_name'] + ' ' + df_people['last_name']"
   ]
  },
  {
   "cell_type": "code",
   "execution_count": 1302,
   "id": "d7c99956",
   "metadata": {},
   "outputs": [
    {
     "data": {
      "text/html": [
       "<div>\n",
       "<style scoped>\n",
       "    .dataframe tbody tr th:only-of-type {\n",
       "        vertical-align: middle;\n",
       "    }\n",
       "\n",
       "    .dataframe tbody tr th {\n",
       "        vertical-align: top;\n",
       "    }\n",
       "\n",
       "    .dataframe thead th {\n",
       "        text-align: right;\n",
       "    }\n",
       "</style>\n",
       "<table border=\"1\" class=\"dataframe\">\n",
       "  <thead>\n",
       "    <tr style=\"text-align: right;\">\n",
       "      <th></th>\n",
       "      <th>email</th>\n",
       "      <th>first_name</th>\n",
       "      <th>last_name</th>\n",
       "      <th>GENDER</th>\n",
       "      <th>full_name</th>\n",
       "    </tr>\n",
       "  </thead>\n",
       "  <tbody>\n",
       "    <tr>\n",
       "      <th>0</th>\n",
       "      <td>evandas@gmail.com</td>\n",
       "      <td>evan</td>\n",
       "      <td>DAS</td>\n",
       "      <td>Male</td>\n",
       "      <td>evan DAS</td>\n",
       "    </tr>\n",
       "    <tr>\n",
       "      <th>1</th>\n",
       "      <td>johnwachs@hotmail.com</td>\n",
       "      <td>JOHN</td>\n",
       "      <td>Wachs</td>\n",
       "      <td>Male</td>\n",
       "      <td>JOHN Wachs</td>\n",
       "    </tr>\n",
       "    <tr>\n",
       "      <th>2</th>\n",
       "      <td>jasonli@outlook.com</td>\n",
       "      <td>jason</td>\n",
       "      <td>Li</td>\n",
       "      <td>Female</td>\n",
       "      <td>jason Li</td>\n",
       "    </tr>\n",
       "  </tbody>\n",
       "</table>\n",
       "</div>"
      ],
      "text/plain": [
       "                   email first_name last_name  GENDER   full_name\n",
       "0      evandas@gmail.com       evan       DAS    Male    evan DAS\n",
       "1  johnwachs@hotmail.com       JOHN     Wachs    Male  JOHN Wachs\n",
       "2    jasonli@outlook.com      jason        Li  Female    jason Li"
      ]
     },
     "execution_count": 1302,
     "metadata": {},
     "output_type": "execute_result"
    }
   ],
   "source": [
    "df_people['full_name'] = df_people['first_name'] + ' ' + df_people['last_name']\n",
    "df_people"
   ]
  },
  {
   "cell_type": "markdown",
   "id": "8a336ebb",
   "metadata": {},
   "source": [
    "Drop/Delete columns"
   ]
  },
  {
   "cell_type": "code",
   "execution_count": 1303,
   "id": "d654e40b",
   "metadata": {},
   "outputs": [
    {
     "data": {
      "text/html": [
       "<div>\n",
       "<style scoped>\n",
       "    .dataframe tbody tr th:only-of-type {\n",
       "        vertical-align: middle;\n",
       "    }\n",
       "\n",
       "    .dataframe tbody tr th {\n",
       "        vertical-align: top;\n",
       "    }\n",
       "\n",
       "    .dataframe thead th {\n",
       "        text-align: right;\n",
       "    }\n",
       "</style>\n",
       "<table border=\"1\" class=\"dataframe\">\n",
       "  <thead>\n",
       "    <tr style=\"text-align: right;\">\n",
       "      <th></th>\n",
       "      <th>email</th>\n",
       "      <th>GENDER</th>\n",
       "      <th>full_name</th>\n",
       "    </tr>\n",
       "  </thead>\n",
       "  <tbody>\n",
       "    <tr>\n",
       "      <th>0</th>\n",
       "      <td>evandas@gmail.com</td>\n",
       "      <td>Male</td>\n",
       "      <td>evan DAS</td>\n",
       "    </tr>\n",
       "    <tr>\n",
       "      <th>1</th>\n",
       "      <td>johnwachs@hotmail.com</td>\n",
       "      <td>Male</td>\n",
       "      <td>JOHN Wachs</td>\n",
       "    </tr>\n",
       "    <tr>\n",
       "      <th>2</th>\n",
       "      <td>jasonli@outlook.com</td>\n",
       "      <td>Female</td>\n",
       "      <td>jason Li</td>\n",
       "    </tr>\n",
       "  </tbody>\n",
       "</table>\n",
       "</div>"
      ],
      "text/plain": [
       "                   email  GENDER   full_name\n",
       "0      evandas@gmail.com    Male    evan DAS\n",
       "1  johnwachs@hotmail.com    Male  JOHN Wachs\n",
       "2    jasonli@outlook.com  Female    jason Li"
      ]
     },
     "execution_count": 1303,
     "metadata": {},
     "output_type": "execute_result"
    }
   ],
   "source": [
    "df_test = df_people.drop(columns = ['first_name', 'last_name'])\n",
    "# does not delete on the original one unless you set inplace = True\n",
    "df_test"
   ]
  },
  {
   "cell_type": "markdown",
   "id": "15815562",
   "metadata": {},
   "source": [
    "Also, you can split the column into multiple columns by using `expand = True` function"
   ]
  },
  {
   "cell_type": "code",
   "execution_count": 1304,
   "id": "8c340f36",
   "metadata": {},
   "outputs": [
    {
     "data": {
      "text/html": [
       "<div>\n",
       "<style scoped>\n",
       "    .dataframe tbody tr th:only-of-type {\n",
       "        vertical-align: middle;\n",
       "    }\n",
       "\n",
       "    .dataframe tbody tr th {\n",
       "        vertical-align: top;\n",
       "    }\n",
       "\n",
       "    .dataframe thead th {\n",
       "        text-align: right;\n",
       "    }\n",
       "</style>\n",
       "<table border=\"1\" class=\"dataframe\">\n",
       "  <thead>\n",
       "    <tr style=\"text-align: right;\">\n",
       "      <th></th>\n",
       "      <th>email</th>\n",
       "      <th>GENDER</th>\n",
       "      <th>full_name</th>\n",
       "      <th>first_name</th>\n",
       "      <th>last_name</th>\n",
       "    </tr>\n",
       "  </thead>\n",
       "  <tbody>\n",
       "    <tr>\n",
       "      <th>0</th>\n",
       "      <td>evandas@gmail.com</td>\n",
       "      <td>Male</td>\n",
       "      <td>evan DAS</td>\n",
       "      <td>evan</td>\n",
       "      <td>DAS</td>\n",
       "    </tr>\n",
       "    <tr>\n",
       "      <th>1</th>\n",
       "      <td>johnwachs@hotmail.com</td>\n",
       "      <td>Male</td>\n",
       "      <td>JOHN Wachs</td>\n",
       "      <td>JOHN</td>\n",
       "      <td>Wachs</td>\n",
       "    </tr>\n",
       "    <tr>\n",
       "      <th>2</th>\n",
       "      <td>jasonli@outlook.com</td>\n",
       "      <td>Female</td>\n",
       "      <td>jason Li</td>\n",
       "      <td>jason</td>\n",
       "      <td>Li</td>\n",
       "    </tr>\n",
       "  </tbody>\n",
       "</table>\n",
       "</div>"
      ],
      "text/plain": [
       "                   email  GENDER   full_name first_name last_name\n",
       "0      evandas@gmail.com    Male    evan DAS       evan       DAS\n",
       "1  johnwachs@hotmail.com    Male  JOHN Wachs       JOHN     Wachs\n",
       "2    jasonli@outlook.com  Female    jason Li      jason        Li"
      ]
     },
     "execution_count": 1304,
     "metadata": {},
     "output_type": "execute_result"
    }
   ],
   "source": [
    "df_test[['first_name', 'last_name']] = df_test['full_name'].str.split(' ', expand = True)\n",
    "df_test"
   ]
  },
  {
   "cell_type": "markdown",
   "id": "085e15a9",
   "metadata": {},
   "source": [
    "concat a new row by \n",
    "\n",
    "1. creating the new dataframe\n",
    "2. using `concat` function\n",
    "3. `ignore_index = True` will rearrange the index "
   ]
  },
  {
   "cell_type": "code",
   "execution_count": 1305,
   "id": "b247b560",
   "metadata": {},
   "outputs": [
    {
     "data": {
      "text/html": [
       "<div>\n",
       "<style scoped>\n",
       "    .dataframe tbody tr th:only-of-type {\n",
       "        vertical-align: middle;\n",
       "    }\n",
       "\n",
       "    .dataframe tbody tr th {\n",
       "        vertical-align: top;\n",
       "    }\n",
       "\n",
       "    .dataframe thead th {\n",
       "        text-align: right;\n",
       "    }\n",
       "</style>\n",
       "<table border=\"1\" class=\"dataframe\">\n",
       "  <thead>\n",
       "    <tr style=\"text-align: right;\">\n",
       "      <th></th>\n",
       "      <th>email</th>\n",
       "      <th>GENDER</th>\n",
       "      <th>full_name</th>\n",
       "      <th>first_name</th>\n",
       "      <th>last_name</th>\n",
       "    </tr>\n",
       "  </thead>\n",
       "  <tbody>\n",
       "    <tr>\n",
       "      <th>0</th>\n",
       "      <td>evandas@gmail.com</td>\n",
       "      <td>Male</td>\n",
       "      <td>evan DAS</td>\n",
       "      <td>evan</td>\n",
       "      <td>DAS</td>\n",
       "    </tr>\n",
       "    <tr>\n",
       "      <th>1</th>\n",
       "      <td>johnwachs@hotmail.com</td>\n",
       "      <td>Male</td>\n",
       "      <td>JOHN Wachs</td>\n",
       "      <td>JOHN</td>\n",
       "      <td>Wachs</td>\n",
       "    </tr>\n",
       "    <tr>\n",
       "      <th>2</th>\n",
       "      <td>jasonli@outlook.com</td>\n",
       "      <td>Female</td>\n",
       "      <td>jason Li</td>\n",
       "      <td>jason</td>\n",
       "      <td>Li</td>\n",
       "    </tr>\n",
       "    <tr>\n",
       "      <th>3</th>\n",
       "      <td>hachimi@icloud.com</td>\n",
       "      <td>Binary</td>\n",
       "      <td>Hachimi</td>\n",
       "      <td>NaN</td>\n",
       "      <td>Nameruto</td>\n",
       "    </tr>\n",
       "  </tbody>\n",
       "</table>\n",
       "</div>"
      ],
      "text/plain": [
       "                   email  GENDER   full_name first_name last_name\n",
       "0      evandas@gmail.com    Male    evan DAS       evan       DAS\n",
       "1  johnwachs@hotmail.com    Male  JOHN Wachs       JOHN     Wachs\n",
       "2    jasonli@outlook.com  Female    jason Li      jason        Li\n",
       "3     hachimi@icloud.com  Binary     Hachimi        NaN  Nameruto"
      ]
     },
     "execution_count": 1305,
     "metadata": {},
     "output_type": "execute_result"
    }
   ],
   "source": [
    "new_row = pd.DataFrame({\n",
    "    'email': ['hachimi@icloud.com'],\n",
    "    'GENDER': ['Binary'], \n",
    "    'full_name': ['Hachimi'], \n",
    "    'last_name': ['Nameruto']\n",
    "})\n",
    "df_test = pd.concat([df_test, new_row], ignore_index = True)\n",
    "df_test"
   ]
  },
  {
   "cell_type": "markdown",
   "id": "88655ae0",
   "metadata": {},
   "source": [
    "Drop/ Delete Row by index"
   ]
  },
  {
   "cell_type": "code",
   "execution_count": 1306,
   "id": "5ab82e33",
   "metadata": {},
   "outputs": [
    {
     "data": {
      "text/html": [
       "<div>\n",
       "<style scoped>\n",
       "    .dataframe tbody tr th:only-of-type {\n",
       "        vertical-align: middle;\n",
       "    }\n",
       "\n",
       "    .dataframe tbody tr th {\n",
       "        vertical-align: top;\n",
       "    }\n",
       "\n",
       "    .dataframe thead th {\n",
       "        text-align: right;\n",
       "    }\n",
       "</style>\n",
       "<table border=\"1\" class=\"dataframe\">\n",
       "  <thead>\n",
       "    <tr style=\"text-align: right;\">\n",
       "      <th></th>\n",
       "      <th>email</th>\n",
       "      <th>GENDER</th>\n",
       "      <th>full_name</th>\n",
       "      <th>first_name</th>\n",
       "      <th>last_name</th>\n",
       "    </tr>\n",
       "  </thead>\n",
       "  <tbody>\n",
       "    <tr>\n",
       "      <th>1</th>\n",
       "      <td>johnwachs@hotmail.com</td>\n",
       "      <td>Male</td>\n",
       "      <td>JOHN Wachs</td>\n",
       "      <td>JOHN</td>\n",
       "      <td>Wachs</td>\n",
       "    </tr>\n",
       "    <tr>\n",
       "      <th>2</th>\n",
       "      <td>jasonli@outlook.com</td>\n",
       "      <td>Female</td>\n",
       "      <td>jason Li</td>\n",
       "      <td>jason</td>\n",
       "      <td>Li</td>\n",
       "    </tr>\n",
       "    <tr>\n",
       "      <th>3</th>\n",
       "      <td>hachimi@icloud.com</td>\n",
       "      <td>Binary</td>\n",
       "      <td>Hachimi</td>\n",
       "      <td>NaN</td>\n",
       "      <td>Nameruto</td>\n",
       "    </tr>\n",
       "  </tbody>\n",
       "</table>\n",
       "</div>"
      ],
      "text/plain": [
       "                   email  GENDER   full_name first_name last_name\n",
       "1  johnwachs@hotmail.com    Male  JOHN Wachs       JOHN     Wachs\n",
       "2    jasonli@outlook.com  Female    jason Li      jason        Li\n",
       "3     hachimi@icloud.com  Binary     Hachimi        NaN  Nameruto"
      ]
     },
     "execution_count": 1306,
     "metadata": {},
     "output_type": "execute_result"
    }
   ],
   "source": [
    "df_test.drop(index = 0)"
   ]
  },
  {
   "cell_type": "markdown",
   "id": "bf252c7b",
   "metadata": {},
   "source": [
    "First set up a filter, then using `.index` to locate the row"
   ]
  },
  {
   "cell_type": "code",
   "execution_count": 1307,
   "id": "d9863633",
   "metadata": {},
   "outputs": [
    {
     "data": {
      "text/html": [
       "<div>\n",
       "<style scoped>\n",
       "    .dataframe tbody tr th:only-of-type {\n",
       "        vertical-align: middle;\n",
       "    }\n",
       "\n",
       "    .dataframe tbody tr th {\n",
       "        vertical-align: top;\n",
       "    }\n",
       "\n",
       "    .dataframe thead th {\n",
       "        text-align: right;\n",
       "    }\n",
       "</style>\n",
       "<table border=\"1\" class=\"dataframe\">\n",
       "  <thead>\n",
       "    <tr style=\"text-align: right;\">\n",
       "      <th></th>\n",
       "      <th>email</th>\n",
       "      <th>GENDER</th>\n",
       "      <th>full_name</th>\n",
       "      <th>first_name</th>\n",
       "      <th>last_name</th>\n",
       "    </tr>\n",
       "  </thead>\n",
       "  <tbody>\n",
       "    <tr>\n",
       "      <th>0</th>\n",
       "      <td>evandas@gmail.com</td>\n",
       "      <td>Male</td>\n",
       "      <td>evan DAS</td>\n",
       "      <td>evan</td>\n",
       "      <td>DAS</td>\n",
       "    </tr>\n",
       "    <tr>\n",
       "      <th>2</th>\n",
       "      <td>jasonli@outlook.com</td>\n",
       "      <td>Female</td>\n",
       "      <td>jason Li</td>\n",
       "      <td>jason</td>\n",
       "      <td>Li</td>\n",
       "    </tr>\n",
       "    <tr>\n",
       "      <th>3</th>\n",
       "      <td>hachimi@icloud.com</td>\n",
       "      <td>Binary</td>\n",
       "      <td>Hachimi</td>\n",
       "      <td>NaN</td>\n",
       "      <td>Nameruto</td>\n",
       "    </tr>\n",
       "  </tbody>\n",
       "</table>\n",
       "</div>"
      ],
      "text/plain": [
       "                 email  GENDER full_name first_name last_name\n",
       "0    evandas@gmail.com    Male  evan DAS       evan       DAS\n",
       "2  jasonli@outlook.com  Female  jason Li      jason        Li\n",
       "3   hachimi@icloud.com  Binary   Hachimi        NaN  Nameruto"
      ]
     },
     "execution_count": 1307,
     "metadata": {},
     "output_type": "execute_result"
    }
   ],
   "source": [
    "filt = df_test['full_name'] == 'JOHN Wachs'\n",
    "df_test.drop(index = df_test[filt].index)"
   ]
  },
  {
   "cell_type": "markdown",
   "id": "6f85420b",
   "metadata": {},
   "source": [
    "Sort Data"
   ]
  },
  {
   "cell_type": "code",
   "execution_count": 1308,
   "id": "edd02622",
   "metadata": {},
   "outputs": [
    {
     "data": {
      "text/html": [
       "<div>\n",
       "<style scoped>\n",
       "    .dataframe tbody tr th:only-of-type {\n",
       "        vertical-align: middle;\n",
       "    }\n",
       "\n",
       "    .dataframe tbody tr th {\n",
       "        vertical-align: top;\n",
       "    }\n",
       "\n",
       "    .dataframe thead th {\n",
       "        text-align: right;\n",
       "    }\n",
       "</style>\n",
       "<table border=\"1\" class=\"dataframe\">\n",
       "  <thead>\n",
       "    <tr style=\"text-align: right;\">\n",
       "      <th></th>\n",
       "      <th>email</th>\n",
       "      <th>first_name</th>\n",
       "      <th>last_name</th>\n",
       "      <th>GENDER</th>\n",
       "      <th>full_name</th>\n",
       "    </tr>\n",
       "  </thead>\n",
       "  <tbody>\n",
       "    <tr>\n",
       "      <th>0</th>\n",
       "      <td>evandas@gmail.com</td>\n",
       "      <td>evan</td>\n",
       "      <td>DAS</td>\n",
       "      <td>Male</td>\n",
       "      <td>evan DAS</td>\n",
       "    </tr>\n",
       "    <tr>\n",
       "      <th>1</th>\n",
       "      <td>johnwachs@hotmail.com</td>\n",
       "      <td>JOHN</td>\n",
       "      <td>Wachs</td>\n",
       "      <td>Male</td>\n",
       "      <td>JOHN Wachs</td>\n",
       "    </tr>\n",
       "    <tr>\n",
       "      <th>2</th>\n",
       "      <td>jasonli@outlook.com</td>\n",
       "      <td>jason</td>\n",
       "      <td>Li</td>\n",
       "      <td>Female</td>\n",
       "      <td>jason Li</td>\n",
       "    </tr>\n",
       "  </tbody>\n",
       "</table>\n",
       "</div>"
      ],
      "text/plain": [
       "                   email first_name last_name  GENDER   full_name\n",
       "0      evandas@gmail.com       evan       DAS    Male    evan DAS\n",
       "1  johnwachs@hotmail.com       JOHN     Wachs    Male  JOHN Wachs\n",
       "2    jasonli@outlook.com      jason        Li  Female    jason Li"
      ]
     },
     "execution_count": 1308,
     "metadata": {},
     "output_type": "execute_result"
    }
   ],
   "source": [
    "df_people"
   ]
  },
  {
   "cell_type": "markdown",
   "id": "b7abcad2",
   "metadata": {},
   "source": [
    "Sort using `sort_values(by = [], ascending = [True, False, ...])` function, `by = ` either a str in which represents column's name, or a `list[str1, str2, ...]` where denotes if col `str1` are the same, sort by col `str2`. `ascending` can be passed into a list, where it corresponds with the by `list`, it enables different sorting rules."
   ]
  },
  {
   "cell_type": "code",
   "execution_count": 1309,
   "id": "cefe19aa",
   "metadata": {},
   "outputs": [
    {
     "data": {
      "text/html": [
       "<div>\n",
       "<style scoped>\n",
       "    .dataframe tbody tr th:only-of-type {\n",
       "        vertical-align: middle;\n",
       "    }\n",
       "\n",
       "    .dataframe tbody tr th {\n",
       "        vertical-align: top;\n",
       "    }\n",
       "\n",
       "    .dataframe thead th {\n",
       "        text-align: right;\n",
       "    }\n",
       "</style>\n",
       "<table border=\"1\" class=\"dataframe\">\n",
       "  <thead>\n",
       "    <tr style=\"text-align: right;\">\n",
       "      <th></th>\n",
       "      <th>email</th>\n",
       "      <th>first_name</th>\n",
       "      <th>last_name</th>\n",
       "      <th>GENDER</th>\n",
       "      <th>full_name</th>\n",
       "    </tr>\n",
       "  </thead>\n",
       "  <tbody>\n",
       "    <tr>\n",
       "      <th>2</th>\n",
       "      <td>jasonli@outlook.com</td>\n",
       "      <td>jason</td>\n",
       "      <td>Li</td>\n",
       "      <td>Female</td>\n",
       "      <td>jason Li</td>\n",
       "    </tr>\n",
       "    <tr>\n",
       "      <th>0</th>\n",
       "      <td>evandas@gmail.com</td>\n",
       "      <td>evan</td>\n",
       "      <td>DAS</td>\n",
       "      <td>Male</td>\n",
       "      <td>evan DAS</td>\n",
       "    </tr>\n",
       "    <tr>\n",
       "      <th>1</th>\n",
       "      <td>johnwachs@hotmail.com</td>\n",
       "      <td>JOHN</td>\n",
       "      <td>Wachs</td>\n",
       "      <td>Male</td>\n",
       "      <td>JOHN Wachs</td>\n",
       "    </tr>\n",
       "  </tbody>\n",
       "</table>\n",
       "</div>"
      ],
      "text/plain": [
       "                   email first_name last_name  GENDER   full_name\n",
       "2    jasonli@outlook.com      jason        Li  Female    jason Li\n",
       "0      evandas@gmail.com       evan       DAS    Male    evan DAS\n",
       "1  johnwachs@hotmail.com       JOHN     Wachs    Male  JOHN Wachs"
      ]
     },
     "execution_count": 1309,
     "metadata": {},
     "output_type": "execute_result"
    }
   ],
   "source": [
    "# when ascending is a single value\n",
    "df_people.sort_values(by = ['first_name', 'last_name'], ascending = False)"
   ]
  },
  {
   "cell_type": "code",
   "execution_count": 1310,
   "id": "e6356049",
   "metadata": {},
   "outputs": [
    {
     "data": {
      "text/html": [
       "<div>\n",
       "<style scoped>\n",
       "    .dataframe tbody tr th:only-of-type {\n",
       "        vertical-align: middle;\n",
       "    }\n",
       "\n",
       "    .dataframe tbody tr th {\n",
       "        vertical-align: top;\n",
       "    }\n",
       "\n",
       "    .dataframe thead th {\n",
       "        text-align: right;\n",
       "    }\n",
       "</style>\n",
       "<table border=\"1\" class=\"dataframe\">\n",
       "  <thead>\n",
       "    <tr style=\"text-align: right;\">\n",
       "      <th></th>\n",
       "      <th>email</th>\n",
       "      <th>first_name</th>\n",
       "      <th>last_name</th>\n",
       "      <th>GENDER</th>\n",
       "      <th>full_name</th>\n",
       "    </tr>\n",
       "  </thead>\n",
       "  <tbody>\n",
       "    <tr>\n",
       "      <th>0</th>\n",
       "      <td>evandas@gmail.com</td>\n",
       "      <td>evan</td>\n",
       "      <td>DAS</td>\n",
       "      <td>Male</td>\n",
       "      <td>evan DAS</td>\n",
       "    </tr>\n",
       "    <tr>\n",
       "      <th>1</th>\n",
       "      <td>johnwachs@hotmail.com</td>\n",
       "      <td>JOHN</td>\n",
       "      <td>Wachs</td>\n",
       "      <td>Male</td>\n",
       "      <td>JOHN Wachs</td>\n",
       "    </tr>\n",
       "    <tr>\n",
       "      <th>2</th>\n",
       "      <td>jasonli@outlook.com</td>\n",
       "      <td>jason</td>\n",
       "      <td>Li</td>\n",
       "      <td>Female</td>\n",
       "      <td>jason Li</td>\n",
       "    </tr>\n",
       "    <tr>\n",
       "      <th>3</th>\n",
       "      <td>d@email.com</td>\n",
       "      <td>A</td>\n",
       "      <td>DAS</td>\n",
       "      <td>NaN</td>\n",
       "      <td>A DAS</td>\n",
       "    </tr>\n",
       "  </tbody>\n",
       "</table>\n",
       "</div>"
      ],
      "text/plain": [
       "                   email first_name last_name  GENDER   full_name\n",
       "0      evandas@gmail.com       evan       DAS    Male    evan DAS\n",
       "1  johnwachs@hotmail.com       JOHN     Wachs    Male  JOHN Wachs\n",
       "2    jasonli@outlook.com      jason        Li  Female    jason Li\n",
       "3            d@email.com          A       DAS     NaN       A DAS"
      ]
     },
     "execution_count": 1310,
     "metadata": {},
     "output_type": "execute_result"
    }
   ],
   "source": [
    "# add another row\n",
    "new = pd.DataFrame({\n",
    "    'email': ['d@email.com'], \n",
    "    'first_name': ['A'],\n",
    "    'last_name': ['DAS'],\n",
    "    'full_name': ['A DAS']\n",
    "})\n",
    "df_people = pd.concat([df_people, new], ignore_index = True)\n",
    "df_people"
   ]
  },
  {
   "cell_type": "markdown",
   "id": "949ab573",
   "metadata": {},
   "source": [
    "Notice `last_name` is sorted in descending alphabetical order, when `last_name` are same, it is sorted by `first_name` in ascending alphabetical order"
   ]
  },
  {
   "cell_type": "code",
   "execution_count": 1311,
   "id": "4b0404cc",
   "metadata": {},
   "outputs": [
    {
     "data": {
      "text/html": [
       "<div>\n",
       "<style scoped>\n",
       "    .dataframe tbody tr th:only-of-type {\n",
       "        vertical-align: middle;\n",
       "    }\n",
       "\n",
       "    .dataframe tbody tr th {\n",
       "        vertical-align: top;\n",
       "    }\n",
       "\n",
       "    .dataframe thead th {\n",
       "        text-align: right;\n",
       "    }\n",
       "</style>\n",
       "<table border=\"1\" class=\"dataframe\">\n",
       "  <thead>\n",
       "    <tr style=\"text-align: right;\">\n",
       "      <th></th>\n",
       "      <th>email</th>\n",
       "      <th>first_name</th>\n",
       "      <th>last_name</th>\n",
       "      <th>GENDER</th>\n",
       "      <th>full_name</th>\n",
       "    </tr>\n",
       "  </thead>\n",
       "  <tbody>\n",
       "    <tr>\n",
       "      <th>1</th>\n",
       "      <td>johnwachs@hotmail.com</td>\n",
       "      <td>JOHN</td>\n",
       "      <td>Wachs</td>\n",
       "      <td>Male</td>\n",
       "      <td>JOHN Wachs</td>\n",
       "    </tr>\n",
       "    <tr>\n",
       "      <th>2</th>\n",
       "      <td>jasonli@outlook.com</td>\n",
       "      <td>jason</td>\n",
       "      <td>Li</td>\n",
       "      <td>Female</td>\n",
       "      <td>jason Li</td>\n",
       "    </tr>\n",
       "    <tr>\n",
       "      <th>3</th>\n",
       "      <td>d@email.com</td>\n",
       "      <td>A</td>\n",
       "      <td>DAS</td>\n",
       "      <td>NaN</td>\n",
       "      <td>A DAS</td>\n",
       "    </tr>\n",
       "    <tr>\n",
       "      <th>0</th>\n",
       "      <td>evandas@gmail.com</td>\n",
       "      <td>evan</td>\n",
       "      <td>DAS</td>\n",
       "      <td>Male</td>\n",
       "      <td>evan DAS</td>\n",
       "    </tr>\n",
       "  </tbody>\n",
       "</table>\n",
       "</div>"
      ],
      "text/plain": [
       "                   email first_name last_name  GENDER   full_name\n",
       "1  johnwachs@hotmail.com       JOHN     Wachs    Male  JOHN Wachs\n",
       "2    jasonli@outlook.com      jason        Li  Female    jason Li\n",
       "3            d@email.com          A       DAS     NaN       A DAS\n",
       "0      evandas@gmail.com       evan       DAS    Male    evan DAS"
      ]
     },
     "execution_count": 1311,
     "metadata": {},
     "output_type": "execute_result"
    }
   ],
   "source": [
    "# sort first last first alphabetically in descending order, then sort last name in ascending order\n",
    "df_people.sort_values(by = ['last_name', 'first_name'], ascending = [False, True]) # .reset_index(drop=True) reset index\n"
   ]
  },
  {
   "cell_type": "markdown",
   "id": "b7d1c056",
   "metadata": {},
   "source": [
    "Notice now the index is not sorted automatically, therefore, if you want the sorted dataframe to be sorted back, simply use `df.sort_index()`"
   ]
  },
  {
   "cell_type": "markdown",
   "id": "353bc0cf",
   "metadata": {},
   "source": [
    "##### Handling Missing Values"
   ]
  },
  {
   "cell_type": "code",
   "execution_count": 1312,
   "id": "16b8b60c",
   "metadata": {},
   "outputs": [
    {
     "data": {
      "text/html": [
       "<div>\n",
       "<style scoped>\n",
       "    .dataframe tbody tr th:only-of-type {\n",
       "        vertical-align: middle;\n",
       "    }\n",
       "\n",
       "    .dataframe tbody tr th {\n",
       "        vertical-align: top;\n",
       "    }\n",
       "\n",
       "    .dataframe thead th {\n",
       "        text-align: right;\n",
       "    }\n",
       "</style>\n",
       "<table border=\"1\" class=\"dataframe\">\n",
       "  <thead>\n",
       "    <tr style=\"text-align: right;\">\n",
       "      <th></th>\n",
       "      <th>email</th>\n",
       "      <th>first_name</th>\n",
       "      <th>last_name</th>\n",
       "      <th>GENDER</th>\n",
       "      <th>full_name</th>\n",
       "    </tr>\n",
       "  </thead>\n",
       "  <tbody>\n",
       "    <tr>\n",
       "      <th>0</th>\n",
       "      <td>evandas@gmail.com</td>\n",
       "      <td>evan</td>\n",
       "      <td>DAS</td>\n",
       "      <td>Male</td>\n",
       "      <td>evan DAS</td>\n",
       "    </tr>\n",
       "    <tr>\n",
       "      <th>1</th>\n",
       "      <td>johnwachs@hotmail.com</td>\n",
       "      <td>JOHN</td>\n",
       "      <td>Wachs</td>\n",
       "      <td>Male</td>\n",
       "      <td>JOHN Wachs</td>\n",
       "    </tr>\n",
       "    <tr>\n",
       "      <th>2</th>\n",
       "      <td>jasonli@outlook.com</td>\n",
       "      <td>jason</td>\n",
       "      <td>Li</td>\n",
       "      <td>Female</td>\n",
       "      <td>jason Li</td>\n",
       "    </tr>\n",
       "    <tr>\n",
       "      <th>3</th>\n",
       "      <td>d@email.com</td>\n",
       "      <td>A</td>\n",
       "      <td>DAS</td>\n",
       "      <td>NaN</td>\n",
       "      <td>A DAS</td>\n",
       "    </tr>\n",
       "  </tbody>\n",
       "</table>\n",
       "</div>"
      ],
      "text/plain": [
       "                   email first_name last_name  GENDER   full_name\n",
       "0      evandas@gmail.com       evan       DAS    Male    evan DAS\n",
       "1  johnwachs@hotmail.com       JOHN     Wachs    Male  JOHN Wachs\n",
       "2    jasonli@outlook.com      jason        Li  Female    jason Li\n",
       "3            d@email.com          A       DAS     NaN       A DAS"
      ]
     },
     "execution_count": 1312,
     "metadata": {},
     "output_type": "execute_result"
    }
   ],
   "source": [
    "import numpy as np\n",
    "df_people\n"
   ]
  },
  {
   "cell_type": "markdown",
   "id": "bc5a27b5",
   "metadata": {},
   "source": [
    "Create `np.nan` numpy empty data"
   ]
  },
  {
   "cell_type": "code",
   "execution_count": 1313,
   "id": "5efe1184",
   "metadata": {},
   "outputs": [],
   "source": [
    "new = pd.DataFrame({\n",
    "    'email':[np.nan, 'email@email.com', 'qq.com'],\n",
    "    'first_name': ['B', np.nan, 'NA'],\n",
    "    'last_name':[np.nan, 'C', 'Missing'],\n",
    "    'GENDER': ['Male', 'Female', 'Female'],\n",
    "    'full_name': ['Missing', None, 'NA']\n",
    "})\n",
    "df_people = pd.concat([new, df_people], ignore_index = True)"
   ]
  },
  {
   "cell_type": "markdown",
   "id": "28dc9a5e",
   "metadata": {},
   "source": [
    "In case there are some `str` `'NA', 'MISSING'` etc, first replace them to real np.nan, then do the following process."
   ]
  },
  {
   "cell_type": "code",
   "execution_count": 1314,
   "id": "595308e0",
   "metadata": {},
   "outputs": [
    {
     "data": {
      "text/html": [
       "<div>\n",
       "<style scoped>\n",
       "    .dataframe tbody tr th:only-of-type {\n",
       "        vertical-align: middle;\n",
       "    }\n",
       "\n",
       "    .dataframe tbody tr th {\n",
       "        vertical-align: top;\n",
       "    }\n",
       "\n",
       "    .dataframe thead th {\n",
       "        text-align: right;\n",
       "    }\n",
       "</style>\n",
       "<table border=\"1\" class=\"dataframe\">\n",
       "  <thead>\n",
       "    <tr style=\"text-align: right;\">\n",
       "      <th></th>\n",
       "      <th>email</th>\n",
       "      <th>first_name</th>\n",
       "      <th>last_name</th>\n",
       "      <th>GENDER</th>\n",
       "      <th>full_name</th>\n",
       "    </tr>\n",
       "  </thead>\n",
       "  <tbody>\n",
       "    <tr>\n",
       "      <th>3</th>\n",
       "      <td>evandas@gmail.com</td>\n",
       "      <td>evan</td>\n",
       "      <td>DAS</td>\n",
       "      <td>Male</td>\n",
       "      <td>evan DAS</td>\n",
       "    </tr>\n",
       "    <tr>\n",
       "      <th>4</th>\n",
       "      <td>johnwachs@hotmail.com</td>\n",
       "      <td>JOHN</td>\n",
       "      <td>Wachs</td>\n",
       "      <td>Male</td>\n",
       "      <td>JOHN Wachs</td>\n",
       "    </tr>\n",
       "    <tr>\n",
       "      <th>5</th>\n",
       "      <td>jasonli@outlook.com</td>\n",
       "      <td>jason</td>\n",
       "      <td>Li</td>\n",
       "      <td>Female</td>\n",
       "      <td>jason Li</td>\n",
       "    </tr>\n",
       "    <tr>\n",
       "      <th>6</th>\n",
       "      <td>d@email.com</td>\n",
       "      <td>A</td>\n",
       "      <td>DAS</td>\n",
       "      <td>NaN</td>\n",
       "      <td>A DAS</td>\n",
       "    </tr>\n",
       "  </tbody>\n",
       "</table>\n",
       "</div>"
      ],
      "text/plain": [
       "                   email first_name last_name  GENDER   full_name\n",
       "3      evandas@gmail.com       evan       DAS    Male    evan DAS\n",
       "4  johnwachs@hotmail.com       JOHN     Wachs    Male  JOHN Wachs\n",
       "5    jasonli@outlook.com      jason        Li  Female    jason Li\n",
       "6            d@email.com          A       DAS     NaN       A DAS"
      ]
     },
     "execution_count": 1314,
     "metadata": {},
     "output_type": "execute_result"
    }
   ],
   "source": [
    "df_people.replace(['NA', 'Missing'], np.nan, inplace = True)\n",
    "df_people.dropna(subset = ['first_name', 'last_name'], how = 'any')\n",
    "# subset = all by default, how = 'any' means if appear an na in the row\n",
    "# then drop, how = 'all' otherwise"
   ]
  },
  {
   "cell_type": "code",
   "execution_count": 1315,
   "id": "7cf7bcfe",
   "metadata": {},
   "outputs": [
    {
     "data": {
      "text/html": [
       "<div>\n",
       "<style scoped>\n",
       "    .dataframe tbody tr th:only-of-type {\n",
       "        vertical-align: middle;\n",
       "    }\n",
       "\n",
       "    .dataframe tbody tr th {\n",
       "        vertical-align: top;\n",
       "    }\n",
       "\n",
       "    .dataframe thead th {\n",
       "        text-align: right;\n",
       "    }\n",
       "</style>\n",
       "<table border=\"1\" class=\"dataframe\">\n",
       "  <thead>\n",
       "    <tr style=\"text-align: right;\">\n",
       "      <th></th>\n",
       "      <th>email</th>\n",
       "      <th>first_name</th>\n",
       "      <th>last_name</th>\n",
       "      <th>GENDER</th>\n",
       "      <th>full_name</th>\n",
       "    </tr>\n",
       "  </thead>\n",
       "  <tbody>\n",
       "    <tr>\n",
       "      <th>0</th>\n",
       "      <td>!MISSING!</td>\n",
       "      <td>B</td>\n",
       "      <td>!MISSING!</td>\n",
       "      <td>Male</td>\n",
       "      <td>!MISSING!</td>\n",
       "    </tr>\n",
       "    <tr>\n",
       "      <th>1</th>\n",
       "      <td>email@email.com</td>\n",
       "      <td>!MISSING!</td>\n",
       "      <td>C</td>\n",
       "      <td>Female</td>\n",
       "      <td>!MISSING!</td>\n",
       "    </tr>\n",
       "    <tr>\n",
       "      <th>2</th>\n",
       "      <td>qq.com</td>\n",
       "      <td>!MISSING!</td>\n",
       "      <td>!MISSING!</td>\n",
       "      <td>Female</td>\n",
       "      <td>!MISSING!</td>\n",
       "    </tr>\n",
       "    <tr>\n",
       "      <th>3</th>\n",
       "      <td>evandas@gmail.com</td>\n",
       "      <td>evan</td>\n",
       "      <td>DAS</td>\n",
       "      <td>Male</td>\n",
       "      <td>evan DAS</td>\n",
       "    </tr>\n",
       "    <tr>\n",
       "      <th>4</th>\n",
       "      <td>johnwachs@hotmail.com</td>\n",
       "      <td>JOHN</td>\n",
       "      <td>Wachs</td>\n",
       "      <td>Male</td>\n",
       "      <td>JOHN Wachs</td>\n",
       "    </tr>\n",
       "    <tr>\n",
       "      <th>5</th>\n",
       "      <td>jasonli@outlook.com</td>\n",
       "      <td>jason</td>\n",
       "      <td>Li</td>\n",
       "      <td>Female</td>\n",
       "      <td>jason Li</td>\n",
       "    </tr>\n",
       "    <tr>\n",
       "      <th>6</th>\n",
       "      <td>d@email.com</td>\n",
       "      <td>A</td>\n",
       "      <td>DAS</td>\n",
       "      <td>!MISSING!</td>\n",
       "      <td>A DAS</td>\n",
       "    </tr>\n",
       "  </tbody>\n",
       "</table>\n",
       "</div>"
      ],
      "text/plain": [
       "                   email first_name  last_name     GENDER   full_name\n",
       "0              !MISSING!          B  !MISSING!       Male   !MISSING!\n",
       "1        email@email.com  !MISSING!          C     Female   !MISSING!\n",
       "2                 qq.com  !MISSING!  !MISSING!     Female   !MISSING!\n",
       "3      evandas@gmail.com       evan        DAS       Male    evan DAS\n",
       "4  johnwachs@hotmail.com       JOHN      Wachs       Male  JOHN Wachs\n",
       "5    jasonli@outlook.com      jason         Li     Female    jason Li\n",
       "6            d@email.com          A        DAS  !MISSING!       A DAS"
      ]
     },
     "execution_count": 1315,
     "metadata": {},
     "output_type": "execute_result"
    }
   ],
   "source": [
    "df_people.fillna('!MISSING!')"
   ]
  }
 ],
 "metadata": {
  "kernelspec": {
   "display_name": ".venv",
   "language": "python",
   "name": "python3"
  },
  "language_info": {
   "codemirror_mode": {
    "name": "ipython",
    "version": 3
   },
   "file_extension": ".py",
   "mimetype": "text/x-python",
   "name": "python",
   "nbconvert_exporter": "python",
   "pygments_lexer": "ipython3",
   "version": "3.13.5"
  }
 },
 "nbformat": 4,
 "nbformat_minor": 5
}
