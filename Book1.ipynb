{
 "cells": [
  {
   "cell_type": "code",
   "execution_count": 39,
   "id": "004b0897",
   "metadata": {},
   "outputs": [],
   "source": [
    "import pandas as pd"
   ]
  },
  {
   "cell_type": "code",
   "execution_count": 40,
   "id": "6983cc6b",
   "metadata": {},
   "outputs": [],
   "source": [
    "df = pd.read_csv('data/survey_results_public.csv')\n",
    "schema_df = pd.read_csv('data/survey_results_schema.csv')"
   ]
  },
  {
   "cell_type": "code",
   "execution_count": null,
   "id": "84d24b5b",
   "metadata": {},
   "outputs": [
    {
     "name": "stdout",
     "output_type": "stream",
     "text": [
      "<class 'pandas.core.frame.DataFrame'>\n",
      "RangeIndex: 49123 entries, 0 to 49122\n",
      "Columns: 170 entries, ResponseId to JobSat\n",
      "dtypes: float64(50), int64(1), object(119)\n",
      "memory usage: 63.7+ MB\n",
      "<class 'pandas.core.frame.DataFrame'>\n",
      "RangeIndex: 139 entries, 0 to 138\n",
      "Data columns (total 6 columns):\n",
      " #   Column    Non-Null Count  Dtype  \n",
      "---  ------    --------------  -----  \n",
      " 0   qid       139 non-null    object \n",
      " 1   qname     139 non-null    object \n",
      " 2   question  139 non-null    object \n",
      " 3   type      139 non-null    object \n",
      " 4   sub       49 non-null     object \n",
      " 5   sq_id     49 non-null     float64\n",
      "dtypes: float64(1), object(5)\n",
      "memory usage: 6.6+ KB\n"
     ]
    }
   ],
   "source": [
    "df.shape\n",
    "df.info()"
   ]
  },
  {
   "cell_type": "code",
   "execution_count": 49,
   "id": "031ced77",
   "metadata": {},
   "outputs": [
    {
     "data": {
      "text/html": [
       "<div>\n",
       "<style scoped>\n",
       "    .dataframe tbody tr th:only-of-type {\n",
       "        vertical-align: middle;\n",
       "    }\n",
       "\n",
       "    .dataframe tbody tr th {\n",
       "        vertical-align: top;\n",
       "    }\n",
       "\n",
       "    .dataframe thead th {\n",
       "        text-align: right;\n",
       "    }\n",
       "</style>\n",
       "<table border=\"1\" class=\"dataframe\">\n",
       "  <thead>\n",
       "    <tr style=\"text-align: right;\">\n",
       "      <th></th>\n",
       "      <th>first</th>\n",
       "      <th>last</th>\n",
       "      <th>email</th>\n",
       "    </tr>\n",
       "  </thead>\n",
       "  <tbody>\n",
       "    <tr>\n",
       "      <th>0</th>\n",
       "      <td>evan</td>\n",
       "      <td>Das</td>\n",
       "      <td>evandas@gmail.com</td>\n",
       "    </tr>\n",
       "    <tr>\n",
       "      <th>1</th>\n",
       "      <td>john</td>\n",
       "      <td>Wachs</td>\n",
       "      <td>johnwachs@hotmail.com</td>\n",
       "    </tr>\n",
       "    <tr>\n",
       "      <th>2</th>\n",
       "      <td>jason</td>\n",
       "      <td>Li</td>\n",
       "      <td>jasonli@outlook.com</td>\n",
       "    </tr>\n",
       "  </tbody>\n",
       "</table>\n",
       "</div>"
      ],
      "text/plain": [
       "   first   last                  email\n",
       "0   evan    Das      evandas@gmail.com\n",
       "1   john  Wachs  johnwachs@hotmail.com\n",
       "2  jason     Li    jasonli@outlook.com"
      ]
     },
     "execution_count": 49,
     "metadata": {},
     "output_type": "execute_result"
    }
   ],
   "source": [
    "df.head(10)\n"
   ]
  },
  {
   "cell_type": "code",
   "execution_count": 50,
   "id": "78d7d3d0",
   "metadata": {},
   "outputs": [
    {
     "data": {
      "text/html": [
       "<div>\n",
       "<style scoped>\n",
       "    .dataframe tbody tr th:only-of-type {\n",
       "        vertical-align: middle;\n",
       "    }\n",
       "\n",
       "    .dataframe tbody tr th {\n",
       "        vertical-align: top;\n",
       "    }\n",
       "\n",
       "    .dataframe thead th {\n",
       "        text-align: right;\n",
       "    }\n",
       "</style>\n",
       "<table border=\"1\" class=\"dataframe\">\n",
       "  <thead>\n",
       "    <tr style=\"text-align: right;\">\n",
       "      <th></th>\n",
       "      <th>qid</th>\n",
       "      <th>qname</th>\n",
       "      <th>question</th>\n",
       "      <th>type</th>\n",
       "      <th>sub</th>\n",
       "      <th>sq_id</th>\n",
       "    </tr>\n",
       "  </thead>\n",
       "  <tbody>\n",
       "    <tr>\n",
       "      <th>129</th>\n",
       "      <td>QID89</td>\n",
       "      <td>AIAgentKnowledge</td>\n",
       "      <td>You indicated you use or develop AI agents as ...</td>\n",
       "      <td>MC</td>\n",
       "      <td>NaN</td>\n",
       "      <td>NaN</td>\n",
       "    </tr>\n",
       "    <tr>\n",
       "      <th>130</th>\n",
       "      <td>QID107</td>\n",
       "      <td>AIAgentKnowWrite</td>\n",
       "      <td>Was the tool or tools for AI agent orchestrati...</td>\n",
       "      <td>TE</td>\n",
       "      <td>NaN</td>\n",
       "      <td>NaN</td>\n",
       "    </tr>\n",
       "    <tr>\n",
       "      <th>131</th>\n",
       "      <td>QID90</td>\n",
       "      <td>AIAgentOrchestration</td>\n",
       "      <td>You indicated you use or develop AI agents as ...</td>\n",
       "      <td>MC</td>\n",
       "      <td>NaN</td>\n",
       "      <td>NaN</td>\n",
       "    </tr>\n",
       "    <tr>\n",
       "      <th>132</th>\n",
       "      <td>QID102</td>\n",
       "      <td>AIAgentOrchWrite</td>\n",
       "      <td>Was the tool or tools for AI agent orchestrati...</td>\n",
       "      <td>TE</td>\n",
       "      <td>NaN</td>\n",
       "      <td>NaN</td>\n",
       "    </tr>\n",
       "    <tr>\n",
       "      <th>133</th>\n",
       "      <td>QID91</td>\n",
       "      <td>AIAgentObserveSecure</td>\n",
       "      <td>You indicated you use or develop AI agents as ...</td>\n",
       "      <td>MC</td>\n",
       "      <td>NaN</td>\n",
       "      <td>NaN</td>\n",
       "    </tr>\n",
       "    <tr>\n",
       "      <th>134</th>\n",
       "      <td>QID103</td>\n",
       "      <td>AIAgentObsWrite</td>\n",
       "      <td>Was the tool or tools for AI agent observabili...</td>\n",
       "      <td>TE</td>\n",
       "      <td>NaN</td>\n",
       "      <td>NaN</td>\n",
       "    </tr>\n",
       "    <tr>\n",
       "      <th>135</th>\n",
       "      <td>QID92</td>\n",
       "      <td>AIAgentExternal</td>\n",
       "      <td>You indicated you use or develop AI agents as ...</td>\n",
       "      <td>MC</td>\n",
       "      <td>NaN</td>\n",
       "      <td>NaN</td>\n",
       "    </tr>\n",
       "    <tr>\n",
       "      <th>136</th>\n",
       "      <td>QID104</td>\n",
       "      <td>AIAgentExtWrite</td>\n",
       "      <td>Was the out-of-the-box agents, copilots or ass...</td>\n",
       "      <td>TE</td>\n",
       "      <td>NaN</td>\n",
       "      <td>NaN</td>\n",
       "    </tr>\n",
       "    <tr>\n",
       "      <th>137</th>\n",
       "      <td>QID100</td>\n",
       "      <td>AIHuman</td>\n",
       "      <td>In the future, if AI can do most coding tasks,...</td>\n",
       "      <td>MC</td>\n",
       "      <td>NaN</td>\n",
       "      <td>NaN</td>\n",
       "    </tr>\n",
       "    <tr>\n",
       "      <th>138</th>\n",
       "      <td>QID93</td>\n",
       "      <td>AIOpen</td>\n",
       "      <td>Looking ahead 3–5 years, what skills do you be...</td>\n",
       "      <td>TE</td>\n",
       "      <td>NaN</td>\n",
       "      <td>NaN</td>\n",
       "    </tr>\n",
       "  </tbody>\n",
       "</table>\n",
       "</div>"
      ],
      "text/plain": [
       "        qid                 qname  \\\n",
       "129   QID89      AIAgentKnowledge   \n",
       "130  QID107      AIAgentKnowWrite   \n",
       "131   QID90  AIAgentOrchestration   \n",
       "132  QID102      AIAgentOrchWrite   \n",
       "133   QID91  AIAgentObserveSecure   \n",
       "134  QID103       AIAgentObsWrite   \n",
       "135   QID92       AIAgentExternal   \n",
       "136  QID104       AIAgentExtWrite   \n",
       "137  QID100               AIHuman   \n",
       "138   QID93                AIOpen   \n",
       "\n",
       "                                              question type  sub  sq_id  \n",
       "129  You indicated you use or develop AI agents as ...   MC  NaN    NaN  \n",
       "130  Was the tool or tools for AI agent orchestrati...   TE  NaN    NaN  \n",
       "131  You indicated you use or develop AI agents as ...   MC  NaN    NaN  \n",
       "132  Was the tool or tools for AI agent orchestrati...   TE  NaN    NaN  \n",
       "133  You indicated you use or develop AI agents as ...   MC  NaN    NaN  \n",
       "134  Was the tool or tools for AI agent observabili...   TE  NaN    NaN  \n",
       "135  You indicated you use or develop AI agents as ...   MC  NaN    NaN  \n",
       "136  Was the out-of-the-box agents, copilots or ass...   TE  NaN    NaN  \n",
       "137  In the future, if AI can do most coding tasks,...   MC  NaN    NaN  \n",
       "138  Looking ahead 3–5 years, what skills do you be...   TE  NaN    NaN  "
      ]
     },
     "execution_count": 50,
     "metadata": {},
     "output_type": "execute_result"
    }
   ],
   "source": [
    "schema_df.tail(10)"
   ]
  },
  {
   "cell_type": "code",
   "execution_count": 43,
   "id": "4f28f6f6",
   "metadata": {},
   "outputs": [],
   "source": [
    "pd.set_option('display.max_rows', None)\n",
    "pd.set_option('display.max_columns', None)\n",
    "# display all the columns/rows, or a sepcific number at None"
   ]
  },
  {
   "cell_type": "code",
   "execution_count": null,
   "id": "d3ce7f49",
   "metadata": {},
   "outputs": [
    {
     "data": {
      "text/html": [
       "<div>\n",
       "<style scoped>\n",
       "    .dataframe tbody tr th:only-of-type {\n",
       "        vertical-align: middle;\n",
       "    }\n",
       "\n",
       "    .dataframe tbody tr th {\n",
       "        vertical-align: top;\n",
       "    }\n",
       "\n",
       "    .dataframe thead th {\n",
       "        text-align: right;\n",
       "    }\n",
       "</style>\n",
       "<table border=\"1\" class=\"dataframe\">\n",
       "  <thead>\n",
       "    <tr style=\"text-align: right;\">\n",
       "      <th></th>\n",
       "      <th>first</th>\n",
       "      <th>last</th>\n",
       "      <th>email</th>\n",
       "    </tr>\n",
       "  </thead>\n",
       "  <tbody>\n",
       "    <tr>\n",
       "      <th>0</th>\n",
       "      <td>evan</td>\n",
       "      <td>Das</td>\n",
       "      <td>evandas@gmail.com</td>\n",
       "    </tr>\n",
       "    <tr>\n",
       "      <th>1</th>\n",
       "      <td>john</td>\n",
       "      <td>Wachs</td>\n",
       "      <td>johnwachs@hotmail.com</td>\n",
       "    </tr>\n",
       "    <tr>\n",
       "      <th>2</th>\n",
       "      <td>jason</td>\n",
       "      <td>Li</td>\n",
       "      <td>jasonli@outlook.com</td>\n",
       "    </tr>\n",
       "  </tbody>\n",
       "</table>\n",
       "</div>"
      ],
      "text/plain": [
       "   first   last                  email\n",
       "0   evan    Das      evandas@gmail.com\n",
       "1   john  Wachs  johnwachs@hotmail.com\n",
       "2  jason     Li    jasonli@outlook.com"
      ]
     },
     "execution_count": 45,
     "metadata": {},
     "output_type": "execute_result"
    }
   ],
   "source": [
    "people = {\n",
    "    'first': ['evan', 'john', 'jason'], \n",
    "    'last': ['Das', 'Wachs', 'Li'], \n",
    "    'email': ['evandas@gmail.com', 'johnwachs@hotmail.com', 'jasonli@outlook.com']\n",
    "}\n",
    "df = pd.DataFrame(people)\n",
    "df "
   ]
  },
  {
   "cell_type": "code",
   "execution_count": 48,
   "id": "cc9aba9b",
   "metadata": {},
   "outputs": [
    {
     "data": {
      "text/plain": [
       "0        evandas@gmail.com\n",
       "1    johnwachs@hotmail.com\n",
       "2      jasonli@outlook.com\n",
       "Name: email, dtype: object"
      ]
     },
     "execution_count": 48,
     "metadata": {},
     "output_type": "execute_result"
    }
   ],
   "source": [
    "df['email']"
   ]
  },
  {
   "cell_type": "code",
   "execution_count": null,
   "id": "9f0a73d4",
   "metadata": {},
   "outputs": [
    {
     "data": {
      "text/plain": [
       "pandas.core.series.Series"
      ]
     },
     "execution_count": 47,
     "metadata": {},
     "output_type": "execute_result"
    }
   ],
   "source": [
    "# generate a series object\n",
    "type(df['email'])"
   ]
  },
  {
   "cell_type": "code",
   "execution_count": null,
   "id": "2534d381",
   "metadata": {},
   "outputs": [
    {
     "data": {
      "text/html": [
       "<div>\n",
       "<style scoped>\n",
       "    .dataframe tbody tr th:only-of-type {\n",
       "        vertical-align: middle;\n",
       "    }\n",
       "\n",
       "    .dataframe tbody tr th {\n",
       "        vertical-align: top;\n",
       "    }\n",
       "\n",
       "    .dataframe thead th {\n",
       "        text-align: right;\n",
       "    }\n",
       "</style>\n",
       "<table border=\"1\" class=\"dataframe\">\n",
       "  <thead>\n",
       "    <tr style=\"text-align: right;\">\n",
       "      <th></th>\n",
       "      <th>last</th>\n",
       "      <th>email</th>\n",
       "    </tr>\n",
       "  </thead>\n",
       "  <tbody>\n",
       "    <tr>\n",
       "      <th>0</th>\n",
       "      <td>Das</td>\n",
       "      <td>evandas@gmail.com</td>\n",
       "    </tr>\n",
       "    <tr>\n",
       "      <th>1</th>\n",
       "      <td>Wachs</td>\n",
       "      <td>johnwachs@hotmail.com</td>\n",
       "    </tr>\n",
       "    <tr>\n",
       "      <th>2</th>\n",
       "      <td>Li</td>\n",
       "      <td>jasonli@outlook.com</td>\n",
       "    </tr>\n",
       "  </tbody>\n",
       "</table>\n",
       "</div>"
      ],
      "text/plain": [
       "    last                  email\n",
       "0    Das      evandas@gmail.com\n",
       "1  Wachs  johnwachs@hotmail.com\n",
       "2     Li    jasonli@outlook.com"
      ]
     },
     "execution_count": 51,
     "metadata": {},
     "output_type": "execute_result"
    }
   ],
   "source": [
    "df[['last', 'email']]\n",
    "# pass a list inside the dataframe"
   ]
  },
  {
   "cell_type": "code",
   "execution_count": null,
   "id": "466f3eb5",
   "metadata": {},
   "outputs": [
    {
     "data": {
      "text/plain": [
       "Index(['first', 'last', 'email'], dtype='object')"
      ]
     },
     "execution_count": 52,
     "metadata": {},
     "output_type": "execute_result"
    }
   ],
   "source": [
    "df.columns"
   ]
  },
  {
   "cell_type": "code",
   "execution_count": 58,
   "id": "66545dbd",
   "metadata": {},
   "outputs": [
    {
     "data": {
      "text/html": [
       "<div>\n",
       "<style scoped>\n",
       "    .dataframe tbody tr th:only-of-type {\n",
       "        vertical-align: middle;\n",
       "    }\n",
       "\n",
       "    .dataframe tbody tr th {\n",
       "        vertical-align: top;\n",
       "    }\n",
       "\n",
       "    .dataframe thead th {\n",
       "        text-align: right;\n",
       "    }\n",
       "</style>\n",
       "<table border=\"1\" class=\"dataframe\">\n",
       "  <thead>\n",
       "    <tr style=\"text-align: right;\">\n",
       "      <th></th>\n",
       "      <th>last</th>\n",
       "      <th>email</th>\n",
       "    </tr>\n",
       "  </thead>\n",
       "  <tbody>\n",
       "    <tr>\n",
       "      <th>0</th>\n",
       "      <td>Das</td>\n",
       "      <td>evandas@gmail.com</td>\n",
       "    </tr>\n",
       "    <tr>\n",
       "      <th>1</th>\n",
       "      <td>Wachs</td>\n",
       "      <td>johnwachs@hotmail.com</td>\n",
       "    </tr>\n",
       "  </tbody>\n",
       "</table>\n",
       "</div>"
      ],
      "text/plain": [
       "    last                  email\n",
       "0    Das      evandas@gmail.com\n",
       "1  Wachs  johnwachs@hotmail.com"
      ]
     },
     "execution_count": 58,
     "metadata": {},
     "output_type": "execute_result"
    }
   ],
   "source": [
    "df.iloc[[0, 1], [1, 2]]\n",
    "# iloc using integer index or list[int, int, ...] to locate specific row(s)\n",
    "# or you can choose specific index column"
   ]
  },
  {
   "cell_type": "code",
   "execution_count": null,
   "id": "10fb7a28",
   "metadata": {},
   "outputs": [
    {
     "data": {
      "text/plain": [
       "0        evandas@gmail.com\n",
       "1    johnwachs@hotmail.com\n",
       "Name: email, dtype: object"
      ]
     },
     "execution_count": 61,
     "metadata": {},
     "output_type": "execute_result"
    }
   ],
   "source": [
    "df.loc[[0, 1], 'email']"
   ]
  }
 ],
 "metadata": {
  "kernelspec": {
   "display_name": ".venv",
   "language": "python",
   "name": "python3"
  },
  "language_info": {
   "codemirror_mode": {
    "name": "ipython",
    "version": 3
   },
   "file_extension": ".py",
   "mimetype": "text/x-python",
   "name": "python",
   "nbconvert_exporter": "python",
   "pygments_lexer": "ipython3",
   "version": "3.13.5"
  }
 },
 "nbformat": 4,
 "nbformat_minor": 5
}
